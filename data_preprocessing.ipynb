{
 "cells": [
  {
   "cell_type": "markdown",
   "metadata": {},
   "source": [
    " ## CarDekho Used Car Price Prediction"
   ]
  },
  {
   "cell_type": "markdown",
   "metadata": {},
   "source": [
    "### Data Cleaning process"
   ]
  },
  {
   "cell_type": "code",
   "execution_count": 1,
   "metadata": {},
   "outputs": [],
   "source": [
    "#Importing necessary libraries\n",
    "import pandas as pd"
   ]
  },
  {
   "cell_type": "markdown",
   "metadata": {},
   "source": [
    "Datasets"
   ]
  },
  {
   "cell_type": "code",
   "execution_count": 2,
   "metadata": {},
   "outputs": [],
   "source": [
    "#Loading the datasets of different cities into dataframes\n",
    "#bangalore data\n",
    "df_bang=pd.read_excel(r\"C:\\Users\\banup\\Desktop\\CarDekho Used Car Price Prediction\\bangalore_cars.xlsx\")\n",
    "#chennai data\n",
    "df_ch=pd.read_excel(r\"C:\\Users\\banup\\Desktop\\CarDekho Used Car Price Prediction\\chennai_cars.xlsx\")\n",
    "#delhi data\n",
    "df_del=pd.read_excel(r\"C:\\Users\\banup\\Desktop\\CarDekho Used Car Price Prediction\\delhi_cars.xlsx\")\n",
    "#hyderabad data\n",
    "df_hbd=pd.read_excel(r\"C:\\Users\\banup\\Desktop\\CarDekho Used Car Price Prediction\\hyderabad_cars.xlsx\")\n",
    "#jaipur data\n",
    "df_jai=pd.read_excel(r\"C:\\Users\\banup\\Desktop\\CarDekho Used Car Price Prediction\\jaipur_cars.xlsx\")\n",
    "#kolkata data\n",
    "df_kol=pd.read_excel(r\"C:\\Users\\banup\\Desktop\\CarDekho Used Car Price Prediction\\kolkata_cars.xlsx\")"
   ]
  },
  {
   "cell_type": "code",
   "execution_count": 3,
   "metadata": {},
   "outputs": [],
   "source": [
    "#Adding the city names to the corresponding dataframes\n",
    "df_bang[\"city\"] = \"bangalore\"\n",
    "df_ch[\"city\"]   = \"chennai\"\n",
    "df_del[\"city\"]  = \"delhi\"\n",
    "df_hbd[\"city\"]  = \"hyderabad\"\n",
    "df_jai[\"city\"]  = \"jaipur\"\n",
    "df_kol[\"city\"]  = \"kolkata\""
   ]
  },
  {
   "cell_type": "markdown",
   "metadata": {},
   "source": [
    "Combining the datasets "
   ]
  },
  {
   "cell_type": "code",
   "execution_count": 4,
   "metadata": {},
   "outputs": [
    {
     "data": {
      "text/html": [
       "<div>\n",
       "<style scoped>\n",
       "    .dataframe tbody tr th:only-of-type {\n",
       "        vertical-align: middle;\n",
       "    }\n",
       "\n",
       "    .dataframe tbody tr th {\n",
       "        vertical-align: top;\n",
       "    }\n",
       "\n",
       "    .dataframe thead th {\n",
       "        text-align: right;\n",
       "    }\n",
       "</style>\n",
       "<table border=\"1\" class=\"dataframe\">\n",
       "  <thead>\n",
       "    <tr style=\"text-align: right;\">\n",
       "      <th></th>\n",
       "      <th>new_car_detail</th>\n",
       "      <th>new_car_overview</th>\n",
       "      <th>new_car_feature</th>\n",
       "      <th>new_car_specs</th>\n",
       "      <th>car_links</th>\n",
       "      <th>city</th>\n",
       "    </tr>\n",
       "  </thead>\n",
       "  <tbody>\n",
       "    <tr>\n",
       "      <th>0</th>\n",
       "      <td>{'it': 0, 'ft': 'Petrol', 'bt': 'Hatchback', '...</td>\n",
       "      <td>{'heading': 'Car overview', 'top': [{'key': 'R...</td>\n",
       "      <td>{'heading': 'Features', 'top': [{'value': 'Pow...</td>\n",
       "      <td>{'heading': 'Specifications', 'top': [{'key': ...</td>\n",
       "      <td>https://www.cardekho.com/used-car-details/used...</td>\n",
       "      <td>bangalore</td>\n",
       "    </tr>\n",
       "    <tr>\n",
       "      <th>1</th>\n",
       "      <td>{'it': 0, 'ft': 'Petrol', 'bt': 'SUV', 'km': '...</td>\n",
       "      <td>{'heading': 'Car overview', 'top': [{'key': 'R...</td>\n",
       "      <td>{'heading': 'Features', 'top': [{'value': 'Pow...</td>\n",
       "      <td>{'heading': 'Specifications', 'top': [{'key': ...</td>\n",
       "      <td>https://www.cardekho.com/buy-used-car-details/...</td>\n",
       "      <td>bangalore</td>\n",
       "    </tr>\n",
       "  </tbody>\n",
       "</table>\n",
       "</div>"
      ],
      "text/plain": [
       "                                      new_car_detail  \\\n",
       "0  {'it': 0, 'ft': 'Petrol', 'bt': 'Hatchback', '...   \n",
       "1  {'it': 0, 'ft': 'Petrol', 'bt': 'SUV', 'km': '...   \n",
       "\n",
       "                                    new_car_overview  \\\n",
       "0  {'heading': 'Car overview', 'top': [{'key': 'R...   \n",
       "1  {'heading': 'Car overview', 'top': [{'key': 'R...   \n",
       "\n",
       "                                     new_car_feature  \\\n",
       "0  {'heading': 'Features', 'top': [{'value': 'Pow...   \n",
       "1  {'heading': 'Features', 'top': [{'value': 'Pow...   \n",
       "\n",
       "                                       new_car_specs  \\\n",
       "0  {'heading': 'Specifications', 'top': [{'key': ...   \n",
       "1  {'heading': 'Specifications', 'top': [{'key': ...   \n",
       "\n",
       "                                           car_links       city  \n",
       "0  https://www.cardekho.com/used-car-details/used...  bangalore  \n",
       "1  https://www.cardekho.com/buy-used-car-details/...  bangalore  "
      ]
     },
     "execution_count": 4,
     "metadata": {},
     "output_type": "execute_result"
    }
   ],
   "source": [
    "#Combining the dataframes\n",
    "df_main=pd.concat([df_bang,df_ch,df_del,df_hbd,df_jai,df_kol],ignore_index=True,axis=0)\n",
    "pd.set_option(\"display.max_columns\",None)\n",
    "pd.set_option(\"display.max_rows\",None)\n",
    "df_main.head(2)"
   ]
  },
  {
   "cell_type": "markdown",
   "metadata": {},
   "source": [
    "Data Cleaning process"
   ]
  },
  {
   "cell_type": "code",
   "execution_count": 5,
   "metadata": {},
   "outputs": [],
   "source": [
    "#Function for converting string elements  to dictionary\n",
    "import json\n",
    "def str_to_dict(x):\n",
    "    x=x.replace(\"'\", \"\\\"\") \n",
    "    x=x.replace(\"None\", \"null\")\n",
    "    x=json.loads(x)\n",
    "    return(x)"
   ]
  },
  {
   "cell_type": "markdown",
   "metadata": {},
   "source": [
    "new_car_detail"
   ]
  },
  {
   "cell_type": "code",
   "execution_count": 6,
   "metadata": {},
   "outputs": [],
   "source": [
    "#Converting the string elements of the column into dictonary\n",
    "df_main[\"new_car_detail\"]=df_main[\"new_car_detail\"].apply(lambda x:str_to_dict(x))"
   ]
  },
  {
   "cell_type": "code",
   "execution_count": 7,
   "metadata": {},
   "outputs": [
    {
     "data": {
      "text/plain": [
       "['ownerNo',\n",
       " 'transmission',\n",
       " 'modelYear',\n",
       " 'price',\n",
       " 'variantName',\n",
       " 'owner',\n",
       " 'trendingText',\n",
       " 'bt',\n",
       " 'km',\n",
       " 'model',\n",
       " 'ft',\n",
       " 'priceSaving',\n",
       " 'priceActual',\n",
       " 'oem',\n",
       " 'centralVariantId',\n",
       " 'priceFixedText',\n",
       " 'it']"
      ]
     },
     "execution_count": 7,
     "metadata": {},
     "output_type": "execute_result"
    }
   ],
   "source": [
    "#Creating a list of unique key of car details\n",
    "different_keys_list_1=[]\n",
    "for i in range (len(df_main)):\n",
    "    dic=df_main.iloc[i][\"new_car_detail\"]\n",
    "    for key in dic.keys():\n",
    "      different_keys_list_1.append(key)\n",
    "different_keys_set=set(different_keys_list_1) #using the set for filtering unique values\n",
    "keys_list_1=list(different_keys_set)\n",
    "keys_list_1"
   ]
  },
  {
   "cell_type": "code",
   "execution_count": 8,
   "metadata": {},
   "outputs": [],
   "source": [
    "#Extracting the values from dictionary and creating the corresponding columns with values\n",
    "def extract_values_1(row,key):\n",
    "    lis=row[\"new_car_detail\"]\n",
    "    if key in lis:\n",
    "       return row[\"new_car_detail\"][key]\n",
    "    return None\n",
    "for key in keys_list_1:\n",
    "    df_main[key]=df_main.apply(lambda row,key=key:extract_values_1(row,key),axis=1)"
   ]
  },
  {
   "cell_type": "code",
   "execution_count": 9,
   "metadata": {},
   "outputs": [
    {
     "data": {
      "text/html": [
       "<div>\n",
       "<style scoped>\n",
       "    .dataframe tbody tr th:only-of-type {\n",
       "        vertical-align: middle;\n",
       "    }\n",
       "\n",
       "    .dataframe tbody tr th {\n",
       "        vertical-align: top;\n",
       "    }\n",
       "\n",
       "    .dataframe thead th {\n",
       "        text-align: right;\n",
       "    }\n",
       "</style>\n",
       "<table border=\"1\" class=\"dataframe\">\n",
       "  <thead>\n",
       "    <tr style=\"text-align: right;\">\n",
       "      <th></th>\n",
       "      <th>new_car_detail</th>\n",
       "      <th>new_car_overview</th>\n",
       "      <th>new_car_feature</th>\n",
       "      <th>new_car_specs</th>\n",
       "      <th>car_links</th>\n",
       "      <th>city</th>\n",
       "      <th>ownerNo</th>\n",
       "      <th>transmission</th>\n",
       "      <th>modelYear</th>\n",
       "      <th>price</th>\n",
       "      <th>variantName</th>\n",
       "      <th>owner</th>\n",
       "      <th>trendingText</th>\n",
       "      <th>bt</th>\n",
       "      <th>km</th>\n",
       "      <th>model</th>\n",
       "      <th>ft</th>\n",
       "      <th>priceSaving</th>\n",
       "      <th>priceActual</th>\n",
       "      <th>oem</th>\n",
       "      <th>centralVariantId</th>\n",
       "      <th>priceFixedText</th>\n",
       "      <th>it</th>\n",
       "    </tr>\n",
       "  </thead>\n",
       "  <tbody>\n",
       "    <tr>\n",
       "      <th>0</th>\n",
       "      <td>{'it': 0, 'ft': 'Petrol', 'bt': 'Hatchback', '...</td>\n",
       "      <td>{'heading': 'Car overview', 'top': [{'key': 'R...</td>\n",
       "      <td>{'heading': 'Features', 'top': [{'value': 'Pow...</td>\n",
       "      <td>{'heading': 'Specifications', 'top': [{'key': ...</td>\n",
       "      <td>https://www.cardekho.com/used-car-details/used...</td>\n",
       "      <td>bangalore</td>\n",
       "      <td>3</td>\n",
       "      <td>Manual</td>\n",
       "      <td>2015</td>\n",
       "      <td>₹ 4 Lakh</td>\n",
       "      <td>VXI</td>\n",
       "      <td>3rd Owner</td>\n",
       "      <td>{'imgUrl': 'https://stimg.cardekho.com/used-ca...</td>\n",
       "      <td>Hatchback</td>\n",
       "      <td>1,20,000</td>\n",
       "      <td>Maruti Celerio</td>\n",
       "      <td>Petrol</td>\n",
       "      <td></td>\n",
       "      <td></td>\n",
       "      <td>Maruti</td>\n",
       "      <td>3979</td>\n",
       "      <td>None</td>\n",
       "      <td>0</td>\n",
       "    </tr>\n",
       "    <tr>\n",
       "      <th>1</th>\n",
       "      <td>{'it': 0, 'ft': 'Petrol', 'bt': 'SUV', 'km': '...</td>\n",
       "      <td>{'heading': 'Car overview', 'top': [{'key': 'R...</td>\n",
       "      <td>{'heading': 'Features', 'top': [{'value': 'Pow...</td>\n",
       "      <td>{'heading': 'Specifications', 'top': [{'key': ...</td>\n",
       "      <td>https://www.cardekho.com/buy-used-car-details/...</td>\n",
       "      <td>bangalore</td>\n",
       "      <td>2</td>\n",
       "      <td>Manual</td>\n",
       "      <td>2018</td>\n",
       "      <td>₹ 8.11 Lakh</td>\n",
       "      <td>1.5 Petrol Titanium BSIV</td>\n",
       "      <td>2nd Owner</td>\n",
       "      <td>{'imgUrl': 'https://stimg.cardekho.com/used-ca...</td>\n",
       "      <td>SUV</td>\n",
       "      <td>32,706</td>\n",
       "      <td>Ford Ecosport</td>\n",
       "      <td>Petrol</td>\n",
       "      <td></td>\n",
       "      <td></td>\n",
       "      <td>Ford</td>\n",
       "      <td>6087</td>\n",
       "      <td>None</td>\n",
       "      <td>0</td>\n",
       "    </tr>\n",
       "  </tbody>\n",
       "</table>\n",
       "</div>"
      ],
      "text/plain": [
       "                                      new_car_detail  \\\n",
       "0  {'it': 0, 'ft': 'Petrol', 'bt': 'Hatchback', '...   \n",
       "1  {'it': 0, 'ft': 'Petrol', 'bt': 'SUV', 'km': '...   \n",
       "\n",
       "                                    new_car_overview  \\\n",
       "0  {'heading': 'Car overview', 'top': [{'key': 'R...   \n",
       "1  {'heading': 'Car overview', 'top': [{'key': 'R...   \n",
       "\n",
       "                                     new_car_feature  \\\n",
       "0  {'heading': 'Features', 'top': [{'value': 'Pow...   \n",
       "1  {'heading': 'Features', 'top': [{'value': 'Pow...   \n",
       "\n",
       "                                       new_car_specs  \\\n",
       "0  {'heading': 'Specifications', 'top': [{'key': ...   \n",
       "1  {'heading': 'Specifications', 'top': [{'key': ...   \n",
       "\n",
       "                                           car_links       city  ownerNo  \\\n",
       "0  https://www.cardekho.com/used-car-details/used...  bangalore        3   \n",
       "1  https://www.cardekho.com/buy-used-car-details/...  bangalore        2   \n",
       "\n",
       "  transmission  modelYear        price               variantName      owner  \\\n",
       "0       Manual       2015     ₹ 4 Lakh                       VXI  3rd Owner   \n",
       "1       Manual       2018  ₹ 8.11 Lakh  1.5 Petrol Titanium BSIV  2nd Owner   \n",
       "\n",
       "                                        trendingText         bt        km  \\\n",
       "0  {'imgUrl': 'https://stimg.cardekho.com/used-ca...  Hatchback  1,20,000   \n",
       "1  {'imgUrl': 'https://stimg.cardekho.com/used-ca...        SUV    32,706   \n",
       "\n",
       "            model      ft priceSaving priceActual     oem  centralVariantId  \\\n",
       "0  Maruti Celerio  Petrol                          Maruti              3979   \n",
       "1   Ford Ecosport  Petrol                            Ford              6087   \n",
       "\n",
       "  priceFixedText  it  \n",
       "0           None   0  \n",
       "1           None   0  "
      ]
     },
     "execution_count": 9,
     "metadata": {},
     "output_type": "execute_result"
    }
   ],
   "source": [
    "df_main.head(2)"
   ]
  },
  {
   "cell_type": "markdown",
   "metadata": {},
   "source": [
    "new_car_overview"
   ]
  },
  {
   "cell_type": "code",
   "execution_count": 10,
   "metadata": {},
   "outputs": [],
   "source": [
    "#Converting the string elements of the column into dictonary\n",
    "df_main[\"new_car_overview\"]=df_main[\"new_car_overview\"].apply(lambda x:str_to_dict(x))"
   ]
  },
  {
   "cell_type": "code",
   "execution_count": 11,
   "metadata": {},
   "outputs": [
    {
     "data": {
      "text/plain": [
       "['Registration Year',\n",
       " 'Insurance Validity',\n",
       " 'Fuel Type',\n",
       " 'Seats',\n",
       " 'Kms Driven',\n",
       " 'RTO',\n",
       " 'Ownership',\n",
       " 'Engine Displacement',\n",
       " 'Transmission',\n",
       " 'Year of Manufacture']"
      ]
     },
     "execution_count": 11,
     "metadata": {},
     "output_type": "execute_result"
    }
   ],
   "source": [
    "#Creating a list of unique key of car overview\n",
    "keys_list_2=[]\n",
    "len(df_main[\"new_car_overview\"][0][\"top\"]) #[0][\"key\"]\n",
    "for key in range (len(df_main[\"new_car_overview\"][0][\"top\"])):\n",
    "      keys_list_2.append(df_main[\"new_car_overview\"][0][\"top\"][key][\"key\"])\n",
    "keys_list_2"
   ]
  },
  {
   "cell_type": "code",
   "execution_count": 12,
   "metadata": {},
   "outputs": [],
   "source": [
    "#Function for extracting the corresponding values\n",
    "def  extract_values_2(row,key):\n",
    "    lis=row[\"new_car_overview\"][\"top\"]\n",
    "    for dic in lis:\n",
    "        if dic[\"key\"]==key:\n",
    "            return dic[\"value\"]\n",
    "    return None\n",
    "#--------------------------------------------------------------------------------------\n",
    "for key in keys_list_2:\n",
    "    df_main[key]=df_main.apply(lambda row,key=key: extract_values_2(row,key),axis=1)"
   ]
  },
  {
   "cell_type": "code",
   "execution_count": 13,
   "metadata": {},
   "outputs": [
    {
     "data": {
      "text/html": [
       "<div>\n",
       "<style scoped>\n",
       "    .dataframe tbody tr th:only-of-type {\n",
       "        vertical-align: middle;\n",
       "    }\n",
       "\n",
       "    .dataframe tbody tr th {\n",
       "        vertical-align: top;\n",
       "    }\n",
       "\n",
       "    .dataframe thead th {\n",
       "        text-align: right;\n",
       "    }\n",
       "</style>\n",
       "<table border=\"1\" class=\"dataframe\">\n",
       "  <thead>\n",
       "    <tr style=\"text-align: right;\">\n",
       "      <th></th>\n",
       "      <th>new_car_detail</th>\n",
       "      <th>new_car_overview</th>\n",
       "      <th>new_car_feature</th>\n",
       "      <th>new_car_specs</th>\n",
       "      <th>car_links</th>\n",
       "      <th>city</th>\n",
       "      <th>ownerNo</th>\n",
       "      <th>transmission</th>\n",
       "      <th>modelYear</th>\n",
       "      <th>price</th>\n",
       "      <th>variantName</th>\n",
       "      <th>owner</th>\n",
       "      <th>trendingText</th>\n",
       "      <th>bt</th>\n",
       "      <th>km</th>\n",
       "      <th>model</th>\n",
       "      <th>ft</th>\n",
       "      <th>priceSaving</th>\n",
       "      <th>priceActual</th>\n",
       "      <th>oem</th>\n",
       "      <th>centralVariantId</th>\n",
       "      <th>priceFixedText</th>\n",
       "      <th>it</th>\n",
       "      <th>Registration Year</th>\n",
       "      <th>Insurance Validity</th>\n",
       "      <th>Fuel Type</th>\n",
       "      <th>Seats</th>\n",
       "      <th>Kms Driven</th>\n",
       "      <th>RTO</th>\n",
       "      <th>Ownership</th>\n",
       "      <th>Engine Displacement</th>\n",
       "      <th>Transmission</th>\n",
       "      <th>Year of Manufacture</th>\n",
       "    </tr>\n",
       "  </thead>\n",
       "  <tbody>\n",
       "    <tr>\n",
       "      <th>0</th>\n",
       "      <td>{'it': 0, 'ft': 'Petrol', 'bt': 'Hatchback', '...</td>\n",
       "      <td>{'heading': 'Car overview', 'top': [{'key': 'R...</td>\n",
       "      <td>{'heading': 'Features', 'top': [{'value': 'Pow...</td>\n",
       "      <td>{'heading': 'Specifications', 'top': [{'key': ...</td>\n",
       "      <td>https://www.cardekho.com/used-car-details/used...</td>\n",
       "      <td>bangalore</td>\n",
       "      <td>3</td>\n",
       "      <td>Manual</td>\n",
       "      <td>2015</td>\n",
       "      <td>₹ 4 Lakh</td>\n",
       "      <td>VXI</td>\n",
       "      <td>3rd Owner</td>\n",
       "      <td>{'imgUrl': 'https://stimg.cardekho.com/used-ca...</td>\n",
       "      <td>Hatchback</td>\n",
       "      <td>1,20,000</td>\n",
       "      <td>Maruti Celerio</td>\n",
       "      <td>Petrol</td>\n",
       "      <td></td>\n",
       "      <td></td>\n",
       "      <td>Maruti</td>\n",
       "      <td>3979</td>\n",
       "      <td>None</td>\n",
       "      <td>0</td>\n",
       "      <td>2015</td>\n",
       "      <td>Third Party insurance</td>\n",
       "      <td>Petrol</td>\n",
       "      <td>5 Seats</td>\n",
       "      <td>1,20,000 Kms</td>\n",
       "      <td>KA51</td>\n",
       "      <td>Third Owner</td>\n",
       "      <td>998 cc</td>\n",
       "      <td>Manual</td>\n",
       "      <td>2015.0</td>\n",
       "    </tr>\n",
       "    <tr>\n",
       "      <th>1</th>\n",
       "      <td>{'it': 0, 'ft': 'Petrol', 'bt': 'SUV', 'km': '...</td>\n",
       "      <td>{'heading': 'Car overview', 'top': [{'key': 'R...</td>\n",
       "      <td>{'heading': 'Features', 'top': [{'value': 'Pow...</td>\n",
       "      <td>{'heading': 'Specifications', 'top': [{'key': ...</td>\n",
       "      <td>https://www.cardekho.com/buy-used-car-details/...</td>\n",
       "      <td>bangalore</td>\n",
       "      <td>2</td>\n",
       "      <td>Manual</td>\n",
       "      <td>2018</td>\n",
       "      <td>₹ 8.11 Lakh</td>\n",
       "      <td>1.5 Petrol Titanium BSIV</td>\n",
       "      <td>2nd Owner</td>\n",
       "      <td>{'imgUrl': 'https://stimg.cardekho.com/used-ca...</td>\n",
       "      <td>SUV</td>\n",
       "      <td>32,706</td>\n",
       "      <td>Ford Ecosport</td>\n",
       "      <td>Petrol</td>\n",
       "      <td></td>\n",
       "      <td></td>\n",
       "      <td>Ford</td>\n",
       "      <td>6087</td>\n",
       "      <td>None</td>\n",
       "      <td>0</td>\n",
       "      <td>Feb 2018</td>\n",
       "      <td>Comprehensive</td>\n",
       "      <td>Petrol</td>\n",
       "      <td>5 Seats</td>\n",
       "      <td>32,706 Kms</td>\n",
       "      <td>KA05</td>\n",
       "      <td>Second Owner</td>\n",
       "      <td>1497 cc</td>\n",
       "      <td>Manual</td>\n",
       "      <td>2018.0</td>\n",
       "    </tr>\n",
       "  </tbody>\n",
       "</table>\n",
       "</div>"
      ],
      "text/plain": [
       "                                      new_car_detail  \\\n",
       "0  {'it': 0, 'ft': 'Petrol', 'bt': 'Hatchback', '...   \n",
       "1  {'it': 0, 'ft': 'Petrol', 'bt': 'SUV', 'km': '...   \n",
       "\n",
       "                                    new_car_overview  \\\n",
       "0  {'heading': 'Car overview', 'top': [{'key': 'R...   \n",
       "1  {'heading': 'Car overview', 'top': [{'key': 'R...   \n",
       "\n",
       "                                     new_car_feature  \\\n",
       "0  {'heading': 'Features', 'top': [{'value': 'Pow...   \n",
       "1  {'heading': 'Features', 'top': [{'value': 'Pow...   \n",
       "\n",
       "                                       new_car_specs  \\\n",
       "0  {'heading': 'Specifications', 'top': [{'key': ...   \n",
       "1  {'heading': 'Specifications', 'top': [{'key': ...   \n",
       "\n",
       "                                           car_links       city  ownerNo  \\\n",
       "0  https://www.cardekho.com/used-car-details/used...  bangalore        3   \n",
       "1  https://www.cardekho.com/buy-used-car-details/...  bangalore        2   \n",
       "\n",
       "  transmission  modelYear        price               variantName      owner  \\\n",
       "0       Manual       2015     ₹ 4 Lakh                       VXI  3rd Owner   \n",
       "1       Manual       2018  ₹ 8.11 Lakh  1.5 Petrol Titanium BSIV  2nd Owner   \n",
       "\n",
       "                                        trendingText         bt        km  \\\n",
       "0  {'imgUrl': 'https://stimg.cardekho.com/used-ca...  Hatchback  1,20,000   \n",
       "1  {'imgUrl': 'https://stimg.cardekho.com/used-ca...        SUV    32,706   \n",
       "\n",
       "            model      ft priceSaving priceActual     oem  centralVariantId  \\\n",
       "0  Maruti Celerio  Petrol                          Maruti              3979   \n",
       "1   Ford Ecosport  Petrol                            Ford              6087   \n",
       "\n",
       "  priceFixedText  it Registration Year     Insurance Validity Fuel Type  \\\n",
       "0           None   0              2015  Third Party insurance    Petrol   \n",
       "1           None   0          Feb 2018          Comprehensive    Petrol   \n",
       "\n",
       "     Seats    Kms Driven   RTO     Ownership Engine Displacement Transmission  \\\n",
       "0  5 Seats  1,20,000 Kms  KA51   Third Owner              998 cc       Manual   \n",
       "1  5 Seats    32,706 Kms  KA05  Second Owner             1497 cc       Manual   \n",
       "\n",
       "   Year of Manufacture  \n",
       "0               2015.0  \n",
       "1               2018.0  "
      ]
     },
     "execution_count": 13,
     "metadata": {},
     "output_type": "execute_result"
    }
   ],
   "source": [
    "df_main.head(2)"
   ]
  },
  {
   "cell_type": "markdown",
   "metadata": {},
   "source": [
    "new_car_feature"
   ]
  },
  {
   "cell_type": "code",
   "execution_count": 14,
   "metadata": {},
   "outputs": [],
   "source": [
    "#Converting the string elements  to dictionary\n",
    "df_main[\"new_car_feature\"]=df_main[\"new_car_feature\"].apply(lambda x:str_to_dict(x))"
   ]
  },
  {
   "cell_type": "code",
   "execution_count": 15,
   "metadata": {},
   "outputs": [
    {
     "data": {
      "text/plain": [
       "['electric folding rear view mirror',\n",
       " 'power windows front',\n",
       " 'day night rear view mirror',\n",
       " 'rear folding table',\n",
       " 'radio',\n",
       " 'fog lights rear',\n",
       " 'integrated2din audio',\n",
       " 'number of speaker',\n",
       " 'anti lock braking system',\n",
       " 'wheel covers',\n",
       " 'adjustable seats',\n",
       " 'power door locks',\n",
       " 'accessory power outlet',\n",
       " 'passenger air bag',\n",
       " 'remote fuel lid opener',\n",
       " 'manually adjustable exterior rear view mirror',\n",
       " 'cruise control',\n",
       " 'air quality control',\n",
       " 'halogen headlamps',\n",
       " 'audio system remote control',\n",
       " 'rear seat headrest',\n",
       " 'adjustable head lights',\n",
       " 'tinted glass',\n",
       " 'drive modes',\n",
       " 'anti theft alarm',\n",
       " 'tyre pressure monitor',\n",
       " 'navigation system',\n",
       " 'leather seats',\n",
       " 'sun roof',\n",
       " 'power antenna',\n",
       " 'fog lights front',\n",
       " 'bluetooth',\n",
       " 'cassette player',\n",
       " 'passenger side rear view mirror',\n",
       " 'centeral locking',\n",
       " 'touch screen',\n",
       " 'digital odometer',\n",
       " 'child safety locks',\n",
       " 'multifunction steering wheel',\n",
       " 'rear spoiler',\n",
       " 'brake assist',\n",
       " 'power windows rear',\n",
       " 'leather steering wheel',\n",
       " 'alloy wheels',\n",
       " 'cd changer',\n",
       " 'cd player',\n",
       " 'fabric upholstery',\n",
       " 'usb auxiliary input',\n",
       " 'digital clock',\n",
       " 'dvd player',\n",
       " 'power adjustable exterior rear view mirror',\n",
       " 'electronic multi tripmeter',\n",
       " 'engine immobilizer',\n",
       " 'cup holders front',\n",
       " 'glove compartment',\n",
       " 'side air bag front',\n",
       " 'driving experience control eco',\n",
       " 'remote trunk opener',\n",
       " 'moon roof',\n",
       " 'low fuel warning light',\n",
       " 'rear window defogger',\n",
       " 'speakers front',\n",
       " 'integrated antenna',\n",
       " 'driver air bag',\n",
       " 'trunk light',\n",
       " 'speakers rear',\n",
       " 'tachometer',\n",
       " 'adjustable steering',\n",
       " 'leddrls',\n",
       " 'heater',\n",
       " 'power steering',\n",
       " 'rear window wiper',\n",
       " 'air conditioner',\n",
       " 'rear seat belts',\n",
       " 'vanity mirror']"
      ]
     },
     "execution_count": 15,
     "metadata": {},
     "output_type": "execute_result"
    }
   ],
   "source": [
    "#Extracting the top features\n",
    "top_features_list=[]\n",
    "for i in df_main[\"new_car_feature\"]:\n",
    "    for j in i[\"top\"]:\n",
    "        top_features_list.append(j[\"value\"].lower())\n",
    "top_features_set=set(top_features_list)\n",
    "unique_top_features_list=list(top_features_set)\n",
    "unique_top_features_list"
   ]
  },
  {
   "cell_type": "code",
   "execution_count": 16,
   "metadata": {},
   "outputs": [],
   "source": [
    "#Filtering important features from the top unique features\n",
    "filtered_unique_top_features_list=[\n",
    " 'power windows front',\n",
    " 'touch screen',\n",
    " 'cd player',\n",
    " 'alloy wheels',\n",
    " 'anti lock braking system',\n",
    " 'leather seats',\n",
    " 'power steering',\n",
    " 'driver air bag',\n",
    " 'air conditioner',\n",
    " 'power windows rear',\n",
    " 'bluetooth',\n",
    " 'radio',\n",
    " 'passenger air bag',]"
   ]
  },
  {
   "cell_type": "code",
   "execution_count": 17,
   "metadata": {},
   "outputs": [],
   "source": [
    "# Extracting the top feature presence in the car\n",
    "def  extract_values_3(row,features):\n",
    "    for i in range(len(row[\"new_car_feature\"][\"top\"])):\n",
    "        if (row[\"new_car_feature\"][\"top\"][i][\"value\"]).lower()==features:\n",
    "          return True\n",
    "    return False        \n",
    "for features in filtered_unique_top_features_list:\n",
    "    df_main[features]=df_main.apply(lambda row, features=features : extract_values_3(row,features),axis=1)"
   ]
  },
  {
   "cell_type": "code",
   "execution_count": 18,
   "metadata": {},
   "outputs": [
    {
     "data": {
      "text/plain": [
       "['Xenon Headlamps',\n",
       " 'Halogen Headlamps',\n",
       " 'Hill Descent Control',\n",
       " 'Speakers Front',\n",
       " 'Driver Air Bag',\n",
       " 'Hill Assist',\n",
       " 'Brake Assist',\n",
       " 'Apple Car Play',\n",
       " 'Blind Spot Monitor',\n",
       " 'Speed Sensing Auto Door Lock',\n",
       " 'Passenger Side Rear View Mirror',\n",
       " 'Anti Pinch Power Windows',\n",
       " 'Integrated2Din Audio',\n",
       " 'Vehicle Stability Control System',\n",
       " 'Crash Sensor',\n",
       " 'Anti Theft Device',\n",
       " 'Wireless Phone Charging',\n",
       " 'Engine Check Warning',\n",
       " 'Isofix Child Seat Mounts',\n",
       " 'Centrally Mounted Fuel Tank',\n",
       " 'Day Night Rear View Mirror',\n",
       " 'Speakers Rear',\n",
       " 'Heads Up Display',\n",
       " 'Speed Alert',\n",
       " 'Follow Me Home Headlamps',\n",
       " 'Pretensioners And Force Limiter Seatbelts',\n",
       " 'Front Impact Beams',\n",
       " 'Automatic Head Lamps',\n",
       " 'Tyre Pressure Monitor',\n",
       " 'Side Air Bag Front',\n",
       " 'Radio',\n",
       " 'Side Air Bag Rear',\n",
       " 'Clutch Lock',\n",
       " 'Usb Auxiliary Input',\n",
       " 'Bluetooth',\n",
       " 'Impact Sensing Auto Door Lock',\n",
       " 'Centeral Locking',\n",
       " 'Rear Camera',\n",
       " 'Eletronic Stability Control',\n",
       " 'View360Camera',\n",
       " 'Anti Theft Alarm',\n",
       " 'Rear Seat Belts',\n",
       " 'Power Door Locks',\n",
       " 'Ebd',\n",
       " 'Lane Watch Camera',\n",
       " 'Keyless Entry',\n",
       " 'Touch Screen',\n",
       " 'Seat Belt Warning',\n",
       " 'Adjustable Seats',\n",
       " 'Geo Fence Alert',\n",
       " 'Passenger Air Bag',\n",
       " 'No Of Airbags',\n",
       " 'Door Ajar Warning',\n",
       " 'Engine Immobilizer',\n",
       " 'Side Impact Beams',\n",
       " 'Number Of Speaker',\n",
       " 'Traction Control',\n",
       " 'Android Auto',\n",
       " 'Child Safety Locks',\n",
       " 'Knee Airbags',\n",
       " 'Sos Emergency Assistance',\n",
       " 'Anti Lock Braking System']"
      ]
     },
     "execution_count": 18,
     "metadata": {},
     "output_type": "execute_result"
    }
   ],
   "source": [
    "#Safety features extraction\n",
    "safety_features_list=[]\n",
    "for i in df_main[\"new_car_feature\"]:\n",
    "   try:\n",
    "    for j in (i[\"data\"][3][\"list\"]):\n",
    "        value= j[\"value\"]\n",
    "        safety_features_list.append( value)\n",
    "   except   Exception:\n",
    "     pass\n",
    "safety_features_set=set(safety_features_list) #Converting to set to remove duplicates\n",
    "unique_safety_features_list=list(safety_features_set)\n",
    "unique_safety_features_list"
   ]
  },
  {
   "cell_type": "code",
   "execution_count": 19,
   "metadata": {},
   "outputs": [],
   "source": [
    "#Filtering the unique safety features\n",
    "filtered_unique_safety_features_list=['Passenger Air Bag','Driver Air Bag','Anti Lock Braking System']"
   ]
  },
  {
   "cell_type": "code",
   "execution_count": 20,
   "metadata": {},
   "outputs": [],
   "source": [
    "# Extracting the safety feature presence in the car\n",
    "def extract_values_4(row,feature):\n",
    "     try:\n",
    "      for i in range(len(row[\"new_car_feature\"][\"data\"][3][\"list\"])):\n",
    "          if row[\"new_car_feature\"][\"data\"][3][\"list\"][i][\"value\"]==feature:\n",
    "               return True\n",
    "      return False\n",
    "     except Exception:\n",
    "         return False\n",
    "for feature in filtered_unique_safety_features_list:\n",
    "    df_main[feature]=df_main.apply(lambda row ,feature=feature: extract_values_4(row,feature),axis=1)"
   ]
  },
  {
   "cell_type": "code",
   "execution_count": 21,
   "metadata": {},
   "outputs": [],
   "source": [
    "#Exterior features extraction\n",
    "exterior_features_list=[]\n",
    "for i in df_main[\"new_car_feature\"]:\n",
    "   try:\n",
    "    for j in (i[\"data\"][2][\"list\"]):\n",
    "        value= j[\"value\"]\n",
    "        exterior_features_list.append( value)\n",
    "   except   Exception:\n",
    "     pass\n",
    "exterior_features_set=set(exterior_features_list) #Converting to set to remove duplicates\n",
    "unique_exterior_features_list=list(exterior_features_set)\n",
    "#unique_exterior_features_list"
   ]
  },
  {
   "cell_type": "code",
   "execution_count": 22,
   "metadata": {},
   "outputs": [],
   "source": [
    "#Filtering the required feature\n",
    "filtered_exterior_feature_list=[\"Alloy Wheels\"]"
   ]
  },
  {
   "cell_type": "code",
   "execution_count": 23,
   "metadata": {},
   "outputs": [],
   "source": [
    "# Extracting the exterior feature presence in the car\n",
    "def extract_values_5(row,feature):\n",
    "     try:\n",
    "      for i in range(len(row[\"new_car_feature\"][\"data\"][2][\"list\"])):\n",
    "          if row[\"new_car_feature\"][\"data\"][2][\"list\"][i][\"value\"]==feature:\n",
    "               return True\n",
    "      return False\n",
    "     except Exception:\n",
    "         return False\n",
    "for feature in filtered_exterior_feature_list:\n",
    "    df_main[feature]=df_main.apply(lambda row ,feature=feature: extract_values_5(row,feature),axis=1)"
   ]
  },
  {
   "cell_type": "code",
   "execution_count": 24,
   "metadata": {},
   "outputs": [
    {
     "data": {
      "text/html": [
       "<div>\n",
       "<style scoped>\n",
       "    .dataframe tbody tr th:only-of-type {\n",
       "        vertical-align: middle;\n",
       "    }\n",
       "\n",
       "    .dataframe tbody tr th {\n",
       "        vertical-align: top;\n",
       "    }\n",
       "\n",
       "    .dataframe thead th {\n",
       "        text-align: right;\n",
       "    }\n",
       "</style>\n",
       "<table border=\"1\" class=\"dataframe\">\n",
       "  <thead>\n",
       "    <tr style=\"text-align: right;\">\n",
       "      <th></th>\n",
       "      <th>new_car_detail</th>\n",
       "      <th>new_car_overview</th>\n",
       "      <th>new_car_feature</th>\n",
       "      <th>new_car_specs</th>\n",
       "      <th>car_links</th>\n",
       "      <th>city</th>\n",
       "      <th>ownerNo</th>\n",
       "      <th>transmission</th>\n",
       "      <th>modelYear</th>\n",
       "      <th>price</th>\n",
       "      <th>variantName</th>\n",
       "      <th>owner</th>\n",
       "      <th>trendingText</th>\n",
       "      <th>bt</th>\n",
       "      <th>km</th>\n",
       "      <th>model</th>\n",
       "      <th>ft</th>\n",
       "      <th>priceSaving</th>\n",
       "      <th>priceActual</th>\n",
       "      <th>oem</th>\n",
       "      <th>centralVariantId</th>\n",
       "      <th>priceFixedText</th>\n",
       "      <th>it</th>\n",
       "      <th>Registration Year</th>\n",
       "      <th>Insurance Validity</th>\n",
       "      <th>Fuel Type</th>\n",
       "      <th>Seats</th>\n",
       "      <th>Kms Driven</th>\n",
       "      <th>RTO</th>\n",
       "      <th>Ownership</th>\n",
       "      <th>Engine Displacement</th>\n",
       "      <th>Transmission</th>\n",
       "      <th>Year of Manufacture</th>\n",
       "      <th>power windows front</th>\n",
       "      <th>touch screen</th>\n",
       "      <th>cd player</th>\n",
       "      <th>alloy wheels</th>\n",
       "      <th>anti lock braking system</th>\n",
       "      <th>leather seats</th>\n",
       "      <th>power steering</th>\n",
       "      <th>driver air bag</th>\n",
       "      <th>air conditioner</th>\n",
       "      <th>power windows rear</th>\n",
       "      <th>bluetooth</th>\n",
       "      <th>radio</th>\n",
       "      <th>passenger air bag</th>\n",
       "      <th>Passenger Air Bag</th>\n",
       "      <th>Driver Air Bag</th>\n",
       "      <th>Anti Lock Braking System</th>\n",
       "      <th>Alloy Wheels</th>\n",
       "    </tr>\n",
       "  </thead>\n",
       "  <tbody>\n",
       "    <tr>\n",
       "      <th>0</th>\n",
       "      <td>{'it': 0, 'ft': 'Petrol', 'bt': 'Hatchback', '...</td>\n",
       "      <td>{'heading': 'Car overview', 'top': [{'key': 'R...</td>\n",
       "      <td>{'heading': 'Features', 'top': [{'value': 'Pow...</td>\n",
       "      <td>{'heading': 'Specifications', 'top': [{'key': ...</td>\n",
       "      <td>https://www.cardekho.com/used-car-details/used...</td>\n",
       "      <td>bangalore</td>\n",
       "      <td>3</td>\n",
       "      <td>Manual</td>\n",
       "      <td>2015</td>\n",
       "      <td>₹ 4 Lakh</td>\n",
       "      <td>VXI</td>\n",
       "      <td>3rd Owner</td>\n",
       "      <td>{'imgUrl': 'https://stimg.cardekho.com/used-ca...</td>\n",
       "      <td>Hatchback</td>\n",
       "      <td>1,20,000</td>\n",
       "      <td>Maruti Celerio</td>\n",
       "      <td>Petrol</td>\n",
       "      <td></td>\n",
       "      <td></td>\n",
       "      <td>Maruti</td>\n",
       "      <td>3979</td>\n",
       "      <td>None</td>\n",
       "      <td>0</td>\n",
       "      <td>2015</td>\n",
       "      <td>Third Party insurance</td>\n",
       "      <td>Petrol</td>\n",
       "      <td>5 Seats</td>\n",
       "      <td>1,20,000 Kms</td>\n",
       "      <td>KA51</td>\n",
       "      <td>Third Owner</td>\n",
       "      <td>998 cc</td>\n",
       "      <td>Manual</td>\n",
       "      <td>2015.0</td>\n",
       "      <td>True</td>\n",
       "      <td>False</td>\n",
       "      <td>False</td>\n",
       "      <td>False</td>\n",
       "      <td>False</td>\n",
       "      <td>False</td>\n",
       "      <td>True</td>\n",
       "      <td>False</td>\n",
       "      <td>True</td>\n",
       "      <td>False</td>\n",
       "      <td>False</td>\n",
       "      <td>False</td>\n",
       "      <td>False</td>\n",
       "      <td>False</td>\n",
       "      <td>False</td>\n",
       "      <td>False</td>\n",
       "      <td>False</td>\n",
       "    </tr>\n",
       "    <tr>\n",
       "      <th>1</th>\n",
       "      <td>{'it': 0, 'ft': 'Petrol', 'bt': 'SUV', 'km': '...</td>\n",
       "      <td>{'heading': 'Car overview', 'top': [{'key': 'R...</td>\n",
       "      <td>{'heading': 'Features', 'top': [{'value': 'Pow...</td>\n",
       "      <td>{'heading': 'Specifications', 'top': [{'key': ...</td>\n",
       "      <td>https://www.cardekho.com/buy-used-car-details/...</td>\n",
       "      <td>bangalore</td>\n",
       "      <td>2</td>\n",
       "      <td>Manual</td>\n",
       "      <td>2018</td>\n",
       "      <td>₹ 8.11 Lakh</td>\n",
       "      <td>1.5 Petrol Titanium BSIV</td>\n",
       "      <td>2nd Owner</td>\n",
       "      <td>{'imgUrl': 'https://stimg.cardekho.com/used-ca...</td>\n",
       "      <td>SUV</td>\n",
       "      <td>32,706</td>\n",
       "      <td>Ford Ecosport</td>\n",
       "      <td>Petrol</td>\n",
       "      <td></td>\n",
       "      <td></td>\n",
       "      <td>Ford</td>\n",
       "      <td>6087</td>\n",
       "      <td>None</td>\n",
       "      <td>0</td>\n",
       "      <td>Feb 2018</td>\n",
       "      <td>Comprehensive</td>\n",
       "      <td>Petrol</td>\n",
       "      <td>5 Seats</td>\n",
       "      <td>32,706 Kms</td>\n",
       "      <td>KA05</td>\n",
       "      <td>Second Owner</td>\n",
       "      <td>1497 cc</td>\n",
       "      <td>Manual</td>\n",
       "      <td>2018.0</td>\n",
       "      <td>True</td>\n",
       "      <td>False</td>\n",
       "      <td>True</td>\n",
       "      <td>False</td>\n",
       "      <td>True</td>\n",
       "      <td>False</td>\n",
       "      <td>True</td>\n",
       "      <td>False</td>\n",
       "      <td>True</td>\n",
       "      <td>False</td>\n",
       "      <td>False</td>\n",
       "      <td>False</td>\n",
       "      <td>False</td>\n",
       "      <td>True</td>\n",
       "      <td>True</td>\n",
       "      <td>True</td>\n",
       "      <td>True</td>\n",
       "    </tr>\n",
       "  </tbody>\n",
       "</table>\n",
       "</div>"
      ],
      "text/plain": [
       "                                      new_car_detail  \\\n",
       "0  {'it': 0, 'ft': 'Petrol', 'bt': 'Hatchback', '...   \n",
       "1  {'it': 0, 'ft': 'Petrol', 'bt': 'SUV', 'km': '...   \n",
       "\n",
       "                                    new_car_overview  \\\n",
       "0  {'heading': 'Car overview', 'top': [{'key': 'R...   \n",
       "1  {'heading': 'Car overview', 'top': [{'key': 'R...   \n",
       "\n",
       "                                     new_car_feature  \\\n",
       "0  {'heading': 'Features', 'top': [{'value': 'Pow...   \n",
       "1  {'heading': 'Features', 'top': [{'value': 'Pow...   \n",
       "\n",
       "                                       new_car_specs  \\\n",
       "0  {'heading': 'Specifications', 'top': [{'key': ...   \n",
       "1  {'heading': 'Specifications', 'top': [{'key': ...   \n",
       "\n",
       "                                           car_links       city  ownerNo  \\\n",
       "0  https://www.cardekho.com/used-car-details/used...  bangalore        3   \n",
       "1  https://www.cardekho.com/buy-used-car-details/...  bangalore        2   \n",
       "\n",
       "  transmission  modelYear        price               variantName      owner  \\\n",
       "0       Manual       2015     ₹ 4 Lakh                       VXI  3rd Owner   \n",
       "1       Manual       2018  ₹ 8.11 Lakh  1.5 Petrol Titanium BSIV  2nd Owner   \n",
       "\n",
       "                                        trendingText         bt        km  \\\n",
       "0  {'imgUrl': 'https://stimg.cardekho.com/used-ca...  Hatchback  1,20,000   \n",
       "1  {'imgUrl': 'https://stimg.cardekho.com/used-ca...        SUV    32,706   \n",
       "\n",
       "            model      ft priceSaving priceActual     oem  centralVariantId  \\\n",
       "0  Maruti Celerio  Petrol                          Maruti              3979   \n",
       "1   Ford Ecosport  Petrol                            Ford              6087   \n",
       "\n",
       "  priceFixedText  it Registration Year     Insurance Validity Fuel Type  \\\n",
       "0           None   0              2015  Third Party insurance    Petrol   \n",
       "1           None   0          Feb 2018          Comprehensive    Petrol   \n",
       "\n",
       "     Seats    Kms Driven   RTO     Ownership Engine Displacement Transmission  \\\n",
       "0  5 Seats  1,20,000 Kms  KA51   Third Owner              998 cc       Manual   \n",
       "1  5 Seats    32,706 Kms  KA05  Second Owner             1497 cc       Manual   \n",
       "\n",
       "   Year of Manufacture  power windows front  touch screen  cd player  \\\n",
       "0               2015.0                 True         False      False   \n",
       "1               2018.0                 True         False       True   \n",
       "\n",
       "   alloy wheels  anti lock braking system  leather seats  power steering  \\\n",
       "0         False                     False          False            True   \n",
       "1         False                      True          False            True   \n",
       "\n",
       "   driver air bag  air conditioner  power windows rear  bluetooth  radio  \\\n",
       "0           False             True               False      False  False   \n",
       "1           False             True               False      False  False   \n",
       "\n",
       "   passenger air bag  Passenger Air Bag  Driver Air Bag  \\\n",
       "0              False              False           False   \n",
       "1              False               True            True   \n",
       "\n",
       "   Anti Lock Braking System  Alloy Wheels  \n",
       "0                     False         False  \n",
       "1                      True          True  "
      ]
     },
     "execution_count": 24,
     "metadata": {},
     "output_type": "execute_result"
    }
   ],
   "source": [
    "df_main.head(2)"
   ]
  },
  {
   "cell_type": "markdown",
   "metadata": {},
   "source": [
    "new_car_specs\t"
   ]
  },
  {
   "cell_type": "code",
   "execution_count": 25,
   "metadata": {},
   "outputs": [],
   "source": [
    "#Converting the string elements to dictionary\n",
    "df_main[\"new_car_specs\"]=df_main[\"new_car_specs\"].apply(lambda x:str_to_dict(x))"
   ]
  },
  {
   "cell_type": "code",
   "execution_count": 26,
   "metadata": {},
   "outputs": [
    {
     "data": {
      "text/plain": [
       "['Engine', 'Mileage', 'Wheel Size', 'Torque', 'Max Power', 'Seats']"
      ]
     },
     "execution_count": 26,
     "metadata": {},
     "output_type": "execute_result"
    }
   ],
   "source": [
    "#Extracting the top features\n",
    "engine_features_list=[]\n",
    "for i in df_main[\"new_car_specs\"]:\n",
    "    for j in i[\"top\"]:\n",
    "     engine_features_list.append(j[\"key\"])\n",
    "engine_features_set=set(engine_features_list)\n",
    "unique_engine_features_list=list(engine_features_set)\n",
    "unique_engine_features_list"
   ]
  },
  {
   "cell_type": "code",
   "execution_count": 27,
   "metadata": {},
   "outputs": [],
   "source": [
    "#Filtering the unique features\n",
    "filtered_unique_engine_features_list=['Mileage', 'Seats', 'Max Power', 'Engine', 'Torque']"
   ]
  },
  {
   "cell_type": "code",
   "execution_count": 28,
   "metadata": {},
   "outputs": [],
   "source": [
    "# Extracting the engine feature presence in the car\n",
    "def  extract_values_6(row,feature):\n",
    "    for i in range(len(row[\"new_car_specs\"][\"top\"])):\n",
    "        if (row[\"new_car_specs\"][\"top\"][i][\"key\"])==feature:\n",
    "          return row[\"new_car_specs\"][\"top\"][i][\"value\"]\n",
    "    return None      \n",
    "for feature in filtered_unique_engine_features_list:\n",
    "    df_main[feature]=df_main.apply(lambda row, feature=feature : extract_values_6(row,feature),axis=1)"
   ]
  },
  {
   "cell_type": "code",
   "execution_count": 29,
   "metadata": {},
   "outputs": [
    {
     "data": {
      "text/plain": [
       "['Displacement',\n",
       " 'Engine Type',\n",
       " 'Super Charger',\n",
       " 'Steering Type',\n",
       " 'Values per Cylinder',\n",
       " 'Tyre Type',\n",
       " 'Compression Ratio',\n",
       " 'Turbo Charger',\n",
       " 'Value Configuration',\n",
       " 'No Door Numbers',\n",
       " 'Color',\n",
       " 'Seating Capacity',\n",
       " 'Fuel Suppy System',\n",
       " 'Alloy Wheel Size',\n",
       " 'Max Torque',\n",
       " 'Max Power',\n",
       " 'No of Cylinder',\n",
       " 'BoreX Stroke']"
      ]
     },
     "execution_count": 29,
     "metadata": {},
     "output_type": "execute_result"
    }
   ],
   "source": [
    "#Extracting engine and transmission features\n",
    "engine_features_list_2=[]\n",
    "for i in df_main[\"new_car_specs\"]:\n",
    "    for j in i[\"data\"][0][\"list\"]:\n",
    "        engine_features_list_2.append(j[\"key\"])\n",
    "engine_features_set_2=set(engine_features_list_2)\n",
    "unique_engine_features_list_2=list(engine_features_set_2)\n",
    "unique_engine_features_list_2    "
   ]
  },
  {
   "cell_type": "code",
   "execution_count": 30,
   "metadata": {},
   "outputs": [],
   "source": [
    "#Filtering engine Features\n",
    "filtered_unique_engine_features_list_2=[\n",
    " 'Max Power',\n",
    " 'Engine Type',\n",
    " 'No of Cylinder',\n",
    " 'Values per Cylinder',\n",
    " 'Turbo Charger',\n",
    " 'Fuel Suppy System',\n",
    " 'No of Cylinder']"
   ]
  },
  {
   "cell_type": "code",
   "execution_count": 31,
   "metadata": {},
   "outputs": [],
   "source": [
    "# Extracting the engine feature presence in the car\n",
    "def  extract_values_7(row,feature):\n",
    "    try:\n",
    "        for i in range(len(row[\"new_car_specs\"][\"data\"][0][\"list\"][1][\"key\"])):\n",
    "            if (row[\"new_car_specs\"][\"data\"][0][\"list\"][i][\"key\"])==feature:\n",
    "              return row[\"new_car_specs\"][\"data\"][0][\"list\"][i][\"value\"]\n",
    "    except Exception:\n",
    "        return None\n",
    "    return       \n",
    "for feature in filtered_unique_engine_features_list_2:\n",
    "    df_main[feature]=df_main.apply(lambda row, feature=feature : extract_values_7(row,feature),axis=1)"
   ]
  },
  {
   "cell_type": "code",
   "execution_count": 32,
   "metadata": {},
   "outputs": [
    {
     "data": {
      "text/plain": [
       "['Steering Type',\n",
       " 'Tyre Type',\n",
       " 'No Door Numbers',\n",
       " 'Drive Type',\n",
       " 'Acceleration',\n",
       " 'Rear Brake Type',\n",
       " 'Alloy Wheel Size',\n",
       " 'Cargo Volumn',\n",
       " 'Top Speed',\n",
       " 'Front Brake Type',\n",
       " 'Seating Capacity',\n",
       " 'Gear Box',\n",
       " 'Turning Radius']"
      ]
     },
     "execution_count": 32,
     "metadata": {},
     "output_type": "execute_result"
    }
   ],
   "source": [
    "#Extracting engine and transmission features\n",
    "engine_features_list_3=[]\n",
    "for i in df_main[\"new_car_specs\"]:\n",
    "  try:\n",
    "    for j in i[\"data\"][2][\"list\"]:\n",
    "        engine_features_list_3.append(j[\"key\"])\n",
    "  except Exception:\n",
    "     pass\n",
    "engine_features_set_3=set(engine_features_list_3)\n",
    "unique_engine_features_list_3=list(engine_features_set_3)\n",
    "unique_engine_features_list_3    "
   ]
  },
  {
   "cell_type": "code",
   "execution_count": 33,
   "metadata": {},
   "outputs": [],
   "source": [
    "#Filtering the required Keys\n",
    "filtered_unique_engine_features_list_3 =[\n",
    " 'Cargo Volumn',\n",
    " 'Front Brake Type',\n",
    " 'Gear Box',\n",
    " 'Rear Brake Type',\n",
    " 'Drive Type',\n",
    " 'Top Speed',\n",
    " \"Alloy Wheel Size\",\n",
    " 'Acceleration']"
   ]
  },
  {
   "cell_type": "code",
   "execution_count": 34,
   "metadata": {},
   "outputs": [],
   "source": [
    "# Extracting the engine feature presence in the car\n",
    "def  extract_values_8(row,feature):\n",
    "    try:\n",
    "        for i in range(len(row[\"new_car_specs\"][\"data\"][2][\"list\"])):\n",
    "            if (row[\"new_car_specs\"][\"data\"][2][\"list\"][i][\"key\"])==feature:\n",
    "              return row[\"new_car_specs\"][\"data\"][2][\"list\"][i][\"value\"]\n",
    "    except Exception:\n",
    "        return None\n",
    "    return       \n",
    "for feature in filtered_unique_engine_features_list_3:\n",
    "    df_main[feature]=df_main.apply(lambda row, feature=feature : extract_values_8(row,feature),axis=1)"
   ]
  },
  {
   "cell_type": "code",
   "execution_count": 35,
   "metadata": {},
   "outputs": [
    {
     "data": {
      "text/html": [
       "<div>\n",
       "<style scoped>\n",
       "    .dataframe tbody tr th:only-of-type {\n",
       "        vertical-align: middle;\n",
       "    }\n",
       "\n",
       "    .dataframe tbody tr th {\n",
       "        vertical-align: top;\n",
       "    }\n",
       "\n",
       "    .dataframe thead th {\n",
       "        text-align: right;\n",
       "    }\n",
       "</style>\n",
       "<table border=\"1\" class=\"dataframe\">\n",
       "  <thead>\n",
       "    <tr style=\"text-align: right;\">\n",
       "      <th></th>\n",
       "      <th>new_car_detail</th>\n",
       "      <th>new_car_overview</th>\n",
       "      <th>new_car_feature</th>\n",
       "      <th>new_car_specs</th>\n",
       "      <th>car_links</th>\n",
       "      <th>city</th>\n",
       "      <th>ownerNo</th>\n",
       "      <th>transmission</th>\n",
       "      <th>modelYear</th>\n",
       "      <th>price</th>\n",
       "      <th>variantName</th>\n",
       "      <th>owner</th>\n",
       "      <th>trendingText</th>\n",
       "      <th>bt</th>\n",
       "      <th>km</th>\n",
       "      <th>model</th>\n",
       "      <th>ft</th>\n",
       "      <th>priceSaving</th>\n",
       "      <th>priceActual</th>\n",
       "      <th>oem</th>\n",
       "      <th>centralVariantId</th>\n",
       "      <th>priceFixedText</th>\n",
       "      <th>it</th>\n",
       "      <th>Registration Year</th>\n",
       "      <th>Insurance Validity</th>\n",
       "      <th>Fuel Type</th>\n",
       "      <th>Seats</th>\n",
       "      <th>Kms Driven</th>\n",
       "      <th>RTO</th>\n",
       "      <th>Ownership</th>\n",
       "      <th>Engine Displacement</th>\n",
       "      <th>Transmission</th>\n",
       "      <th>Year of Manufacture</th>\n",
       "      <th>power windows front</th>\n",
       "      <th>touch screen</th>\n",
       "      <th>cd player</th>\n",
       "      <th>alloy wheels</th>\n",
       "      <th>anti lock braking system</th>\n",
       "      <th>leather seats</th>\n",
       "      <th>power steering</th>\n",
       "      <th>driver air bag</th>\n",
       "      <th>air conditioner</th>\n",
       "      <th>power windows rear</th>\n",
       "      <th>bluetooth</th>\n",
       "      <th>radio</th>\n",
       "      <th>passenger air bag</th>\n",
       "      <th>Passenger Air Bag</th>\n",
       "      <th>Driver Air Bag</th>\n",
       "      <th>Anti Lock Braking System</th>\n",
       "      <th>Alloy Wheels</th>\n",
       "      <th>Mileage</th>\n",
       "      <th>Max Power</th>\n",
       "      <th>Engine</th>\n",
       "      <th>Torque</th>\n",
       "      <th>Engine Type</th>\n",
       "      <th>No of Cylinder</th>\n",
       "      <th>Values per Cylinder</th>\n",
       "      <th>Turbo Charger</th>\n",
       "      <th>Fuel Suppy System</th>\n",
       "      <th>Cargo Volumn</th>\n",
       "      <th>Front Brake Type</th>\n",
       "      <th>Gear Box</th>\n",
       "      <th>Rear Brake Type</th>\n",
       "      <th>Drive Type</th>\n",
       "      <th>Top Speed</th>\n",
       "      <th>Alloy Wheel Size</th>\n",
       "      <th>Acceleration</th>\n",
       "    </tr>\n",
       "  </thead>\n",
       "  <tbody>\n",
       "    <tr>\n",
       "      <th>0</th>\n",
       "      <td>{'it': 0, 'ft': 'Petrol', 'bt': 'Hatchback', '...</td>\n",
       "      <td>{'heading': 'Car overview', 'top': [{'key': 'R...</td>\n",
       "      <td>{'heading': 'Features', 'top': [{'value': 'Pow...</td>\n",
       "      <td>{'heading': 'Specifications', 'top': [{'key': ...</td>\n",
       "      <td>https://www.cardekho.com/used-car-details/used...</td>\n",
       "      <td>bangalore</td>\n",
       "      <td>3</td>\n",
       "      <td>Manual</td>\n",
       "      <td>2015</td>\n",
       "      <td>₹ 4 Lakh</td>\n",
       "      <td>VXI</td>\n",
       "      <td>3rd Owner</td>\n",
       "      <td>{'imgUrl': 'https://stimg.cardekho.com/used-ca...</td>\n",
       "      <td>Hatchback</td>\n",
       "      <td>1,20,000</td>\n",
       "      <td>Maruti Celerio</td>\n",
       "      <td>Petrol</td>\n",
       "      <td></td>\n",
       "      <td></td>\n",
       "      <td>Maruti</td>\n",
       "      <td>3979</td>\n",
       "      <td>None</td>\n",
       "      <td>0</td>\n",
       "      <td>2015</td>\n",
       "      <td>Third Party insurance</td>\n",
       "      <td>Petrol</td>\n",
       "      <td>5</td>\n",
       "      <td>1,20,000 Kms</td>\n",
       "      <td>KA51</td>\n",
       "      <td>Third Owner</td>\n",
       "      <td>998 cc</td>\n",
       "      <td>Manual</td>\n",
       "      <td>2015.0</td>\n",
       "      <td>True</td>\n",
       "      <td>False</td>\n",
       "      <td>False</td>\n",
       "      <td>False</td>\n",
       "      <td>False</td>\n",
       "      <td>False</td>\n",
       "      <td>True</td>\n",
       "      <td>False</td>\n",
       "      <td>True</td>\n",
       "      <td>False</td>\n",
       "      <td>False</td>\n",
       "      <td>False</td>\n",
       "      <td>False</td>\n",
       "      <td>False</td>\n",
       "      <td>False</td>\n",
       "      <td>False</td>\n",
       "      <td>False</td>\n",
       "      <td>23.1 kmpl</td>\n",
       "      <td>67.04bhp@6000rpm</td>\n",
       "      <td>998 CC</td>\n",
       "      <td>90Nm</td>\n",
       "      <td>K10B Engine</td>\n",
       "      <td>3.0</td>\n",
       "      <td>4.0</td>\n",
       "      <td>None</td>\n",
       "      <td>MPFi</td>\n",
       "      <td>235-litres</td>\n",
       "      <td>Ventilated Disc</td>\n",
       "      <td>5 Speed</td>\n",
       "      <td>Drum</td>\n",
       "      <td>FWD</td>\n",
       "      <td>150 Kmph</td>\n",
       "      <td>None</td>\n",
       "      <td>15.05 Seconds</td>\n",
       "    </tr>\n",
       "    <tr>\n",
       "      <th>1</th>\n",
       "      <td>{'it': 0, 'ft': 'Petrol', 'bt': 'SUV', 'km': '...</td>\n",
       "      <td>{'heading': 'Car overview', 'top': [{'key': 'R...</td>\n",
       "      <td>{'heading': 'Features', 'top': [{'value': 'Pow...</td>\n",
       "      <td>{'heading': 'Specifications', 'top': [{'key': ...</td>\n",
       "      <td>https://www.cardekho.com/buy-used-car-details/...</td>\n",
       "      <td>bangalore</td>\n",
       "      <td>2</td>\n",
       "      <td>Manual</td>\n",
       "      <td>2018</td>\n",
       "      <td>₹ 8.11 Lakh</td>\n",
       "      <td>1.5 Petrol Titanium BSIV</td>\n",
       "      <td>2nd Owner</td>\n",
       "      <td>{'imgUrl': 'https://stimg.cardekho.com/used-ca...</td>\n",
       "      <td>SUV</td>\n",
       "      <td>32,706</td>\n",
       "      <td>Ford Ecosport</td>\n",
       "      <td>Petrol</td>\n",
       "      <td></td>\n",
       "      <td></td>\n",
       "      <td>Ford</td>\n",
       "      <td>6087</td>\n",
       "      <td>None</td>\n",
       "      <td>0</td>\n",
       "      <td>Feb 2018</td>\n",
       "      <td>Comprehensive</td>\n",
       "      <td>Petrol</td>\n",
       "      <td>5</td>\n",
       "      <td>32,706 Kms</td>\n",
       "      <td>KA05</td>\n",
       "      <td>Second Owner</td>\n",
       "      <td>1497 cc</td>\n",
       "      <td>Manual</td>\n",
       "      <td>2018.0</td>\n",
       "      <td>True</td>\n",
       "      <td>False</td>\n",
       "      <td>True</td>\n",
       "      <td>False</td>\n",
       "      <td>True</td>\n",
       "      <td>False</td>\n",
       "      <td>True</td>\n",
       "      <td>False</td>\n",
       "      <td>True</td>\n",
       "      <td>False</td>\n",
       "      <td>False</td>\n",
       "      <td>False</td>\n",
       "      <td>False</td>\n",
       "      <td>True</td>\n",
       "      <td>True</td>\n",
       "      <td>True</td>\n",
       "      <td>True</td>\n",
       "      <td>17 kmpl</td>\n",
       "      <td>121.31bhp@6500rpm</td>\n",
       "      <td>1497 CC</td>\n",
       "      <td>150Nm</td>\n",
       "      <td>Ti-VCT Petrol Engine</td>\n",
       "      <td>3.0</td>\n",
       "      <td>4.0</td>\n",
       "      <td>None</td>\n",
       "      <td>Direct Injection</td>\n",
       "      <td>352-litres</td>\n",
       "      <td>Ventilated Disc</td>\n",
       "      <td>5 Speed</td>\n",
       "      <td>Drum</td>\n",
       "      <td>FWD</td>\n",
       "      <td>None</td>\n",
       "      <td>16</td>\n",
       "      <td>None</td>\n",
       "    </tr>\n",
       "  </tbody>\n",
       "</table>\n",
       "</div>"
      ],
      "text/plain": [
       "                                      new_car_detail  \\\n",
       "0  {'it': 0, 'ft': 'Petrol', 'bt': 'Hatchback', '...   \n",
       "1  {'it': 0, 'ft': 'Petrol', 'bt': 'SUV', 'km': '...   \n",
       "\n",
       "                                    new_car_overview  \\\n",
       "0  {'heading': 'Car overview', 'top': [{'key': 'R...   \n",
       "1  {'heading': 'Car overview', 'top': [{'key': 'R...   \n",
       "\n",
       "                                     new_car_feature  \\\n",
       "0  {'heading': 'Features', 'top': [{'value': 'Pow...   \n",
       "1  {'heading': 'Features', 'top': [{'value': 'Pow...   \n",
       "\n",
       "                                       new_car_specs  \\\n",
       "0  {'heading': 'Specifications', 'top': [{'key': ...   \n",
       "1  {'heading': 'Specifications', 'top': [{'key': ...   \n",
       "\n",
       "                                           car_links       city  ownerNo  \\\n",
       "0  https://www.cardekho.com/used-car-details/used...  bangalore        3   \n",
       "1  https://www.cardekho.com/buy-used-car-details/...  bangalore        2   \n",
       "\n",
       "  transmission  modelYear        price               variantName      owner  \\\n",
       "0       Manual       2015     ₹ 4 Lakh                       VXI  3rd Owner   \n",
       "1       Manual       2018  ₹ 8.11 Lakh  1.5 Petrol Titanium BSIV  2nd Owner   \n",
       "\n",
       "                                        trendingText         bt        km  \\\n",
       "0  {'imgUrl': 'https://stimg.cardekho.com/used-ca...  Hatchback  1,20,000   \n",
       "1  {'imgUrl': 'https://stimg.cardekho.com/used-ca...        SUV    32,706   \n",
       "\n",
       "            model      ft priceSaving priceActual     oem  centralVariantId  \\\n",
       "0  Maruti Celerio  Petrol                          Maruti              3979   \n",
       "1   Ford Ecosport  Petrol                            Ford              6087   \n",
       "\n",
       "  priceFixedText  it Registration Year     Insurance Validity Fuel Type Seats  \\\n",
       "0           None   0              2015  Third Party insurance    Petrol     5   \n",
       "1           None   0          Feb 2018          Comprehensive    Petrol     5   \n",
       "\n",
       "     Kms Driven   RTO     Ownership Engine Displacement Transmission  \\\n",
       "0  1,20,000 Kms  KA51   Third Owner              998 cc       Manual   \n",
       "1    32,706 Kms  KA05  Second Owner             1497 cc       Manual   \n",
       "\n",
       "   Year of Manufacture  power windows front  touch screen  cd player  \\\n",
       "0               2015.0                 True         False      False   \n",
       "1               2018.0                 True         False       True   \n",
       "\n",
       "   alloy wheels  anti lock braking system  leather seats  power steering  \\\n",
       "0         False                     False          False            True   \n",
       "1         False                      True          False            True   \n",
       "\n",
       "   driver air bag  air conditioner  power windows rear  bluetooth  radio  \\\n",
       "0           False             True               False      False  False   \n",
       "1           False             True               False      False  False   \n",
       "\n",
       "   passenger air bag  Passenger Air Bag  Driver Air Bag  \\\n",
       "0              False              False           False   \n",
       "1              False               True            True   \n",
       "\n",
       "   Anti Lock Braking System  Alloy Wheels    Mileage          Max Power  \\\n",
       "0                     False         False  23.1 kmpl   67.04bhp@6000rpm   \n",
       "1                      True          True    17 kmpl  121.31bhp@6500rpm   \n",
       "\n",
       "    Engine Torque           Engine Type  No of Cylinder  Values per Cylinder  \\\n",
       "0   998 CC   90Nm           K10B Engine             3.0                  4.0   \n",
       "1  1497 CC  150Nm  Ti-VCT Petrol Engine             3.0                  4.0   \n",
       "\n",
       "  Turbo Charger Fuel Suppy System Cargo Volumn Front Brake Type  Gear Box  \\\n",
       "0          None              MPFi   235-litres  Ventilated Disc  5 Speed    \n",
       "1          None  Direct Injection   352-litres  Ventilated Disc   5 Speed   \n",
       "\n",
       "  Rear Brake Type Drive Type Top Speed Alloy Wheel Size   Acceleration  \n",
       "0            Drum        FWD  150 Kmph             None  15.05 Seconds  \n",
       "1            Drum        FWD      None               16           None  "
      ]
     },
     "execution_count": 35,
     "metadata": {},
     "output_type": "execute_result"
    }
   ],
   "source": [
    "df_main.head(2)"
   ]
  },
  {
   "cell_type": "markdown",
   "metadata": {},
   "source": [
    "Filtering the required columns"
   ]
  },
  {
   "cell_type": "code",
   "execution_count": 36,
   "metadata": {},
   "outputs": [
    {
     "data": {
      "text/html": [
       "<div>\n",
       "<style scoped>\n",
       "    .dataframe tbody tr th:only-of-type {\n",
       "        vertical-align: middle;\n",
       "    }\n",
       "\n",
       "    .dataframe tbody tr th {\n",
       "        vertical-align: top;\n",
       "    }\n",
       "\n",
       "    .dataframe thead th {\n",
       "        text-align: right;\n",
       "    }\n",
       "</style>\n",
       "<table border=\"1\" class=\"dataframe\">\n",
       "  <thead>\n",
       "    <tr style=\"text-align: right;\">\n",
       "      <th></th>\n",
       "      <th>oem</th>\n",
       "      <th>model</th>\n",
       "      <th>modelYear</th>\n",
       "      <th>bt</th>\n",
       "      <th>Fuel Type</th>\n",
       "      <th>Transmission</th>\n",
       "      <th>Max Power</th>\n",
       "      <th>Engine</th>\n",
       "      <th>Mileage</th>\n",
       "      <th>km</th>\n",
       "      <th>ownerNo</th>\n",
       "      <th>Insurance Validity</th>\n",
       "      <th>Seats</th>\n",
       "      <th>Alloy Wheels</th>\n",
       "      <th>city</th>\n",
       "      <th>price</th>\n",
       "    </tr>\n",
       "  </thead>\n",
       "  <tbody>\n",
       "    <tr>\n",
       "      <th>0</th>\n",
       "      <td>Maruti</td>\n",
       "      <td>Maruti Celerio</td>\n",
       "      <td>2015</td>\n",
       "      <td>Hatchback</td>\n",
       "      <td>Petrol</td>\n",
       "      <td>Manual</td>\n",
       "      <td>67.04bhp@6000rpm</td>\n",
       "      <td>998 CC</td>\n",
       "      <td>23.1 kmpl</td>\n",
       "      <td>1,20,000</td>\n",
       "      <td>3</td>\n",
       "      <td>Third Party insurance</td>\n",
       "      <td>5</td>\n",
       "      <td>False</td>\n",
       "      <td>bangalore</td>\n",
       "      <td>₹ 4 Lakh</td>\n",
       "    </tr>\n",
       "    <tr>\n",
       "      <th>1</th>\n",
       "      <td>Ford</td>\n",
       "      <td>Ford Ecosport</td>\n",
       "      <td>2018</td>\n",
       "      <td>SUV</td>\n",
       "      <td>Petrol</td>\n",
       "      <td>Manual</td>\n",
       "      <td>121.31bhp@6500rpm</td>\n",
       "      <td>1497 CC</td>\n",
       "      <td>17 kmpl</td>\n",
       "      <td>32,706</td>\n",
       "      <td>2</td>\n",
       "      <td>Comprehensive</td>\n",
       "      <td>5</td>\n",
       "      <td>True</td>\n",
       "      <td>bangalore</td>\n",
       "      <td>₹ 8.11 Lakh</td>\n",
       "    </tr>\n",
       "  </tbody>\n",
       "</table>\n",
       "</div>"
      ],
      "text/plain": [
       "      oem           model  modelYear         bt Fuel Type Transmission  \\\n",
       "0  Maruti  Maruti Celerio       2015  Hatchback    Petrol       Manual   \n",
       "1    Ford   Ford Ecosport       2018        SUV    Petrol       Manual   \n",
       "\n",
       "           Max Power   Engine    Mileage        km  ownerNo  \\\n",
       "0   67.04bhp@6000rpm   998 CC  23.1 kmpl  1,20,000        3   \n",
       "1  121.31bhp@6500rpm  1497 CC    17 kmpl    32,706        2   \n",
       "\n",
       "      Insurance Validity Seats  Alloy Wheels       city        price  \n",
       "0  Third Party insurance     5         False  bangalore     ₹ 4 Lakh  \n",
       "1          Comprehensive     5          True  bangalore  ₹ 8.11 Lakh  "
      ]
     },
     "execution_count": 36,
     "metadata": {},
     "output_type": "execute_result"
    }
   ],
   "source": [
    "#Filtering the necessary columns\n",
    "#df_main.columns.to_list()\n",
    "filtered_columns=[\n",
    " 'oem',\n",
    " 'model',\n",
    " 'modelYear',\n",
    " 'bt',\n",
    " 'Fuel Type',\n",
    " 'Transmission',\n",
    " \"Max Power\",\n",
    " 'Engine',\n",
    " 'Mileage',\n",
    " 'km',\n",
    " 'ownerNo',\n",
    " 'Insurance Validity',\n",
    " \"Seats\",\n",
    " 'Alloy Wheels',\n",
    " 'city', \n",
    " 'price'\n",
    " ]\n",
    "df_filtered=df_main[filtered_columns]\n",
    "df_filtered.head(2)"
   ]
  },
  {
   "cell_type": "markdown",
   "metadata": {},
   "source": [
    "Data cleaning of filtered data"
   ]
  },
  {
   "cell_type": "code",
   "execution_count": 37,
   "metadata": {},
   "outputs": [],
   "source": [
    "#Changing the column names\n",
    "df_filtered=df_filtered.rename(columns={'oem':\"manufacturer\",\n",
    " 'model': \"model_name\",\n",
    " 'modelYear':\"model_year\",\n",
    " 'bt':'body_type',\n",
    " 'Fuel Type':\"fuel_type\",\n",
    " 'km': \"kilometers\",\n",
    " 'Transmission': \"transmission\",\n",
    " \"Max Power\":\"power\",\n",
    " \"Seats\":\"seats\",\n",
    " 'ownerNo':\"previous_owners\",\n",
    " 'Insurance Validity': \"insurance_type\",\n",
    " 'Mileage': \"mileage\",\n",
    " \"Engine\": \"engine_(cc)\",\n",
    " 'anti lock braking system': \"ABS\",\n",
    " 'Alloy Wheels': \"alloy_wheels\",\n",
    " 'city': \"city\",\n",
    " 'price': \"price_(₹)\"})"
   ]
  },
  {
   "cell_type": "code",
   "execution_count": 38,
   "metadata": {},
   "outputs": [
    {
     "data": {
      "text/html": [
       "<div>\n",
       "<style scoped>\n",
       "    .dataframe tbody tr th:only-of-type {\n",
       "        vertical-align: middle;\n",
       "    }\n",
       "\n",
       "    .dataframe tbody tr th {\n",
       "        vertical-align: top;\n",
       "    }\n",
       "\n",
       "    .dataframe thead th {\n",
       "        text-align: right;\n",
       "    }\n",
       "</style>\n",
       "<table border=\"1\" class=\"dataframe\">\n",
       "  <thead>\n",
       "    <tr style=\"text-align: right;\">\n",
       "      <th></th>\n",
       "      <th>manufacturer</th>\n",
       "      <th>model_name</th>\n",
       "      <th>model_year</th>\n",
       "      <th>body_type</th>\n",
       "      <th>fuel_type</th>\n",
       "      <th>transmission</th>\n",
       "      <th>power</th>\n",
       "      <th>engine_(cc)</th>\n",
       "      <th>mileage</th>\n",
       "      <th>kilometers</th>\n",
       "      <th>previous_owners</th>\n",
       "      <th>insurance_type</th>\n",
       "      <th>seats</th>\n",
       "      <th>alloy_wheels</th>\n",
       "      <th>city</th>\n",
       "      <th>price_(₹)</th>\n",
       "    </tr>\n",
       "  </thead>\n",
       "  <tbody>\n",
       "    <tr>\n",
       "      <th>0</th>\n",
       "      <td>Maruti</td>\n",
       "      <td>Maruti Celerio</td>\n",
       "      <td>2015</td>\n",
       "      <td>Hatchback</td>\n",
       "      <td>Petrol</td>\n",
       "      <td>Manual</td>\n",
       "      <td>67.04bhp@6000rpm</td>\n",
       "      <td>998 CC</td>\n",
       "      <td>23.1 kmpl</td>\n",
       "      <td>1,20,000</td>\n",
       "      <td>3</td>\n",
       "      <td>Third Party insurance</td>\n",
       "      <td>5</td>\n",
       "      <td>False</td>\n",
       "      <td>bangalore</td>\n",
       "      <td>₹ 4 Lakh</td>\n",
       "    </tr>\n",
       "  </tbody>\n",
       "</table>\n",
       "</div>"
      ],
      "text/plain": [
       "  manufacturer      model_name  model_year  body_type fuel_type transmission  \\\n",
       "0       Maruti  Maruti Celerio        2015  Hatchback    Petrol       Manual   \n",
       "\n",
       "              power engine_(cc)    mileage kilometers  previous_owners  \\\n",
       "0  67.04bhp@6000rpm      998 CC  23.1 kmpl   1,20,000                3   \n",
       "\n",
       "          insurance_type seats  alloy_wheels       city price_(₹)  \n",
       "0  Third Party insurance     5         False  bangalore  ₹ 4 Lakh  "
      ]
     },
     "execution_count": 38,
     "metadata": {},
     "output_type": "execute_result"
    }
   ],
   "source": [
    "df_filtered.head(1)"
   ]
  },
  {
   "cell_type": "code",
   "execution_count": 39,
   "metadata": {},
   "outputs": [
    {
     "data": {
      "text/plain": [
       "(8369, 16)"
      ]
     },
     "execution_count": 39,
     "metadata": {},
     "output_type": "execute_result"
    }
   ],
   "source": [
    "#shape\n",
    "df_filtered.shape"
   ]
  },
  {
   "cell_type": "code",
   "execution_count": 40,
   "metadata": {},
   "outputs": [
    {
     "data": {
      "text/plain": [
       "114"
      ]
     },
     "execution_count": 40,
     "metadata": {},
     "output_type": "execute_result"
    }
   ],
   "source": [
    "#Checking for duplicates\n",
    "df_filtered.duplicated().sum()"
   ]
  },
  {
   "cell_type": "code",
   "execution_count": 41,
   "metadata": {},
   "outputs": [],
   "source": [
    "#Dropping the duplicated rows\n",
    "df_filtered.drop_duplicates(inplace=True)"
   ]
  },
  {
   "cell_type": "code",
   "execution_count": 42,
   "metadata": {},
   "outputs": [
    {
     "data": {
      "text/plain": [
       "manufacturer       object\n",
       "model_name         object\n",
       "model_year          int64\n",
       "body_type          object\n",
       "fuel_type          object\n",
       "transmission       object\n",
       "power              object\n",
       "engine_(cc)        object\n",
       "mileage            object\n",
       "kilometers         object\n",
       "previous_owners     int64\n",
       "insurance_type     object\n",
       "seats              object\n",
       "alloy_wheels         bool\n",
       "city               object\n",
       "price_(₹)          object\n",
       "dtype: object"
      ]
     },
     "execution_count": 42,
     "metadata": {},
     "output_type": "execute_result"
    }
   ],
   "source": [
    "#Checking for the datatype\n",
    "df_filtered.dtypes"
   ]
  },
  {
   "cell_type": "code",
   "execution_count": 43,
   "metadata": {},
   "outputs": [
    {
     "data": {
      "text/plain": [
       "manufacturer         0\n",
       "model_name           0\n",
       "model_year           0\n",
       "body_type            0\n",
       "fuel_type            0\n",
       "transmission         0\n",
       "power               60\n",
       "engine_(cc)          4\n",
       "mileage            283\n",
       "kilometers           0\n",
       "previous_owners      0\n",
       "insurance_type       4\n",
       "seats                5\n",
       "alloy_wheels         0\n",
       "city                 0\n",
       "price_(₹)            0\n",
       "dtype: int64"
      ]
     },
     "execution_count": 43,
     "metadata": {},
     "output_type": "execute_result"
    }
   ],
   "source": [
    "#Checking for null values\n",
    "df_filtered.isna().sum()"
   ]
  },
  {
   "cell_type": "markdown",
   "metadata": {},
   "source": [
    "manufacturer"
   ]
  },
  {
   "cell_type": "code",
   "execution_count": 44,
   "metadata": {},
   "outputs": [
    {
     "name": "stdout",
     "output_type": "stream",
     "text": [
      "{'Maruti': 2219, 'Hyundai': 1631, 'Honda': 855, 'Tata': 428, 'Mahindra': 371, 'Toyota': 321, 'Renault': 309, 'Ford': 306, 'Volkswagen': 285, 'Mercedes-Benz': 241, 'BMW': 182, 'Skoda': 158, 'Audi': 156, 'Kia': 155, 'Jeep': 111, 'MG': 88, 'Nissan': 78, 'Chevrolet': 76, 'Datsun': 74, 'Land Rover': 43, 'Volvo': 41, 'Jaguar': 34, 'Fiat': 30, 'Mitsubishi': 13, 'Mini': 12, 'Citroen': 8, 'Porsche': 6, 'Isuzu': 5, 'Lexus': 4, 'Mahindra Ssangyong': 4, 'Mahindra Renault': 4, 'Hindustan Motors': 4, 'Opel': 3}\n"
     ]
    }
   ],
   "source": [
    "#Checking for value counts\n",
    "print(df_filtered[\"manufacturer\"].value_counts().to_dict())"
   ]
  },
  {
   "cell_type": "code",
   "execution_count": 45,
   "metadata": {},
   "outputs": [],
   "source": [
    "#Replacing and grouping the manufacturer names\n",
    "df_filtered[\"manufacturer\"]=df_filtered[\"manufacturer\"].replace({\"Mahindra Renault\":\"Mahindra\",\"Mahindra Ssangyong\":\"Mahindra\"})"
   ]
  },
  {
   "cell_type": "markdown",
   "metadata": {},
   "source": [
    "model_name\t"
   ]
  },
  {
   "cell_type": "code",
   "execution_count": 46,
   "metadata": {},
   "outputs": [
    {
     "name": "stdout",
     "output_type": "stream",
     "text": [
      "{'City': 366, 'Swift': 347, 'i20': 328, 'Baleno': 291, 'Grand i10': 259, 'Wagon R': 249, 'Swift Dzire': 248, 'Creta': 193, 'i10': 179, 'Verna': 179, 'Amaze': 174, 'Ecosport': 165, 'Alto 800': 162, 'Celerio': 151, 'KWID': 149, 'Polo': 143, 'Ciaz': 126, 'XUV500': 125, 'Jazz': 112, 'Compass': 102, 'Tiago': 95, 'Seltos': 93, 'Vitara Brezza': 91, 'Nexon': 88, 'Alto K10': 82, 'WR-V': 81, 'Ertiga': 80, 'Venue': 79, 'EON': 70, 'Duster': 70, 'Vento': 66, 'Rapid': 66, 'Figo': 63, 'Brio': 61, 'Innova Crysta': 61, 'Fortuner': 60, 'Ignis': 60, 'Grand i10 Nios': 58, 'Santro Xing': 58, 'C-Class': 56, 'Innova': 54, 'Alto': 53, 'Xcent': 53, 'Santro': 51, 'S-Presso': 48, 'RediGO': 46, 'Hector': 46, 'E-Class': 45, 'Ritz': 43, 'Triber': 42, '3 Series': 39, 'Scorpio': 38, 'Corolla Altis': 38, 'Sonet': 37, 'Thar': 37, 'XUV300': 37, '5 Series': 37, 'Altroz': 33, 'X1': 32, 'Q3': 31, 'A6': 31, 'Magnite': 31, 'Endeavour': 30, 'Kiger': 29, 'Ameo': 29, 'SX4 S Cross': 29, 'Harrier': 29, 'A4': 28, 'Elantra': 27, 'TUV 300': 27, 'i20 Active': 24, 'Tigor': 24, 'New Safari': 23, 'Beat': 23, 'Etios': 23, 'Superb': 23, 'Taigun': 22, 'Q5': 22, 'GLC': 22, 'Eeco': 20, 'Q7': 19, 'CLA': 19, 'Glanza': 18, 'Alcazar': 18, 'GLE': 17, 'Yaris': 17, 'X3': 17, 'Carens': 17, 'A3': 17, 'Octavia': 17, 'Cruze': 16, 'Bolero': 16, 'KUV 100': 16, 'Urban cruiser': 16, 'Kushaq': 16, 'Aspire': 16, 'Aura': 16, 'GO': 15, 'Zest': 15, 'Hector Plus': 15, 'XL6': 15, 'KUV 100 NXT': 15, 'X5': 15, 'Zen Estilo': 15, 'Range Rover Evoque': 15, 'Micra': 14, 'CR-V': 14, 'Manza': 14, 'XF': 14, 'S-Class': 14, 'M-Class': 13, 'Celerio X': 13, 'Civic': 13, 'Accent': 13, 'Mobilio': 13, 'Terrano': 13, 'Indica V2': 13, 'GO Plus': 13, 'Indica': 12, 'Punch': 12, '800': 12, 'A-Star': 12, 'Brezza': 12, 'Fiesta': 12, 'Indigo': 12, 'Spark': 12, 'Astor': 12, '3 Series GT': 12, 'Hexa': 11, 'Discovery Sport': 11, 'Nano': 11, 'GLS': 11, 'XC60': 11, 'Slavia': 11, 'New Accord': 11, 'Etios Liva': 11, 'Linea': 11, 'Jetta': 11, 'Camry': 11, 'Marazzo': 10, 'Gloster': 10, 'XUV700': 10, 'XC40': 9, 'SX4': 9, '3 Series Gran Limousine': 9, 'Safari Storme': 9, 'S60': 9, 'BR-V': 9, 'Laura': 9, 'Sail': 9, 'Freestyle': 9, 'GLA Class': 9, 'Sunny': 8, 'Fabia': 8, 'Zen': 8, 'Micra Active': 8, 'Carnival': 8, 'Wagon R Stingray': 7, 'Range Rover Sport': 7, 'XJ': 7, 'Getz': 7, 'Scorpio N': 7, 'Punto': 7, 'Bolero Power Plus': 7, 'Captur': 7, '6 Series': 7, 'i20 N Line': 7, 'Swift Dzire Tour': 7, 'Nexon EV Prime': 7, 'XE': 7, 'Scala': 6, 'GL-Class': 6, '7 Series': 6, 'Pajero': 5, 'Bolero Neo': 5, 'Ikon': 5, 'XC 90': 5, 'Tavera': 5, 'F-Pace': 5, 'Kodiaq': 5, 'Cooper': 4, 'Nexon EV': 4, 'Tiago NRG': 4, 'Grand Vitara': 4, 'ZS EV': 4, 'Fiesta Classic': 4, 'Omni': 4, 'C5 Aircross': 4, 'B Class': 4, 'A-Class Limousine': 4, 'Meridian': 4, 'Kicks': 4, 'C3': 4, 'Ssangyong Rexton': 4, 'Q2': 4, 'Optra': 4, 'Logan': 4, 'Wrangler': 4, 'Esteem': 4, 'Virtus': 4, 'Tucson': 3, 'Alturas G4': 3, 'GLA': 3, 'A A 35': 3, 'Tigor EV': 3, 'Grande Punto': 3, 'Etios Cross': 3, 'Jimny': 3, 'Outlander': 3, 'CLS-Class': 3, 'Passat': 3, 'Lancer': 3, 'Cooper Countryman': 3, 'Quanto': 3, 'Ambassador': 3, 'Estilo': 3, 'Freelander 2': 3, 'Corsa': 3, 'Enjoy': 3, 'Xylo': 3, 'A Class': 3, 'Gypsy': 3, 'X4': 3, 'Baleno RS': 3, 'Avventura': 3, 'Sonata': 3, 'Santa Fe': 3, 'Tiguan': 3, 'Yeti': 3, 'A G 63': 2, 'Defender': 2, 'RX': 2, 'Panamera': 2, 'E Verito': 2, 'Macan': 2, 'Xcent Prime': 2, 'S90': 2, 'Bolt': 2, 'Fortuner Legender': 2, 'Scorpio Classic': 2, 'V40': 2, 'D-Max': 2, 'Nexon EV Max': 2, 'Qualis': 2, 'X7': 2, 'e2o Plus': 2, 'ES': 2, 'S60 Cross Country': 2, 'Mondeo': 2, 'Range Rover Velar': 2, 'Discovery': 2, 'Aveo': 2, 'MU-X': 2, '1 Series': 2, 'Punto EVO': 2, 'Hyryder': 2, 'Fluence': 2, 'Lodgy': 2, 'Cedia': 2, 'Bolero Camper': 2, 'Pulse': 2, 'T-Roc': 2, 'S5 Sportback': 1, 'Aria': 1, 'CrossPolo': 1, 'City Hybrid': 1, 'Kona': 1, 'A GT': 1, 'Aveo U-VA': 1, 'EQC': 1, 'Abarth Avventura': 1, 'Contessa': 1, 'A GLC 43': 1, 'Compass Trailhawk': 1, 'Corolla': 1, 'Sumo Victa': 1, 'Bolero Pik Up Extra Long': 1, 'Captiva': 1, 'Yodha Pickup': 1, 'Indigo Marina': 1, '911': 1, '2 Series': 1, 'Range Rover': 1, 'S 80': 1, 'Punto Abarth': 1, 'Verito': 1, '1000': 1, 'Tiguan Allspace': 1, 'Sumo': 1, 'Palio': 1, 'A3 cabriolet': 1, 'Ertiga Tour': 1, 'MU 7': 1, 'Comet EV': 1, '5 DOOR': 1, 'Versa': 1, 'Punto Pure': 1, '3 DOOR': 1, 'A8': 1, '': 1, 'A GLA 35': 1, 'TUV 300 Plus': 1, 'Cooper SE': 1, 'GLC Coupe': 1, 'Cooper Clubman': 1, 'Cayenne': 1, 'Q3 Sportback': 1, 'G': 1, 'Cooper Convertible': 1, 'Vellfire': 1, 'Land Cruiser 300': 1, 'SLC': 1, 'FRONX': 1, 'Celerio Tour 2018-2021': 1, 'F-TYPE': 1}\n"
     ]
    }
   ],
   "source": [
    "#Replacing manufacturer name in model name\n",
    "#print(df_filtered[\"manufacturer\"].value_counts().to_dict().keys())\n",
    "manufacturer_list=['Maruti', 'Hyundai', 'Honda', 'Tata', 'Mahindra', 'Toyota', 'Renault', 'Ford', 'Volkswagen', 'Mercedes-Benz', 'BMW', 'Skoda', 'Kia', 'Audi', 'Jeep', 'MG', 'Nissan', 'Chevrolet', 'Datsun', 'Land Rover', 'Volvo', 'Jaguar', 'Fiat', 'Mitsubishi', 'Mini', 'Citroen', 'Porsche', 'Isuzu', 'Lexus', 'Hindustan Motors', 'Opel']\n",
    "for manufacturer in manufacturer_list:\n",
    "     df_filtered[\"model_name\"]=df_filtered[\"model_name\"].str.replace(manufacturer,\"\").str.strip()\n",
    "print(df_filtered[\"model_name\"].value_counts().to_dict())"
   ]
  },
  {
   "cell_type": "code",
   "execution_count": 47,
   "metadata": {},
   "outputs": [],
   "source": [
    "#Replacing the model name \n",
    "df_filtered.loc[df_filtered[\"model_name\"]==\"\",\"model_name\"]=\"Armada\""
   ]
  },
  {
   "cell_type": "markdown",
   "metadata": {},
   "source": [
    "model_year"
   ]
  },
  {
   "cell_type": "code",
   "execution_count": 48,
   "metadata": {},
   "outputs": [],
   "source": [
    "#Changing the datatype of  model year column to integer\n",
    "df_filtered[\"model_year\"]=df_filtered[\"model_year\"].astype(\"int\")  "
   ]
  },
  {
   "cell_type": "markdown",
   "metadata": {},
   "source": [
    "body_type"
   ]
  },
  {
   "cell_type": "code",
   "execution_count": 49,
   "metadata": {},
   "outputs": [
    {
     "data": {
      "text/plain": [
       "body_type\n",
       "Hatchback        3527\n",
       "SUV              2199\n",
       "Sedan            2138\n",
       "MUV               342\n",
       "Minivans           21\n",
       "Coupe              10\n",
       "Pickup Trucks       6\n",
       "Convertibles        6\n",
       "                    4\n",
       "Hybrids             1\n",
       "Wagon               1\n",
       "Name: count, dtype: int64"
      ]
     },
     "execution_count": 49,
     "metadata": {},
     "output_type": "execute_result"
    }
   ],
   "source": [
    "df_filtered[\"body_type\"].value_counts()"
   ]
  },
  {
   "cell_type": "code",
   "execution_count": 50,
   "metadata": {},
   "outputs": [],
   "source": [
    "#Changing the body type names\n",
    "df_filtered.loc[df_filtered[\"body_type\"]==\"Hybrids\",\"body_type\"]=\"SUV\"\n",
    "df_filtered.loc[df_filtered[\"body_type\"]==\"Wagon\",\"body_type\"]=\"Hatchback\"\n",
    "df_filtered.loc[df_filtered[\"body_type\"]==\"\",\"body_type\"]=\"Minivans\""
   ]
  },
  {
   "cell_type": "code",
   "execution_count": 51,
   "metadata": {},
   "outputs": [],
   "source": [
    "#Grouping the miniumum count  body_types into \"Others\"\n",
    "body_type_list=['Minivans', 'Coupe','Pickup Trucks', 'Convertibles']\n",
    "for b_type in body_type_list:\n",
    "    df_filtered.loc[df_filtered[\"body_type\"]==b_type,\"body_type\"]=\"Others\""
   ]
  },
  {
   "cell_type": "markdown",
   "metadata": {},
   "source": [
    "fuel_type"
   ]
  },
  {
   "cell_type": "code",
   "execution_count": 52,
   "metadata": {},
   "outputs": [
    {
     "data": {
      "text/plain": [
       "fuel_type\n",
       "Petrol      5473\n",
       "Diesel      2642\n",
       "CNG           96\n",
       "Electric      28\n",
       "LPG           16\n",
       "Name: count, dtype: int64"
      ]
     },
     "execution_count": 52,
     "metadata": {},
     "output_type": "execute_result"
    }
   ],
   "source": [
    "df_filtered[\"fuel_type\"].value_counts()"
   ]
  },
  {
   "cell_type": "markdown",
   "metadata": {},
   "source": [
    "transmission"
   ]
  },
  {
   "cell_type": "code",
   "execution_count": 53,
   "metadata": {},
   "outputs": [
    {
     "data": {
      "text/plain": [
       "transmission\n",
       "Manual       5973\n",
       "Automatic    2282\n",
       "Name: count, dtype: int64"
      ]
     },
     "execution_count": 53,
     "metadata": {},
     "output_type": "execute_result"
    }
   ],
   "source": [
    "df_filtered[\"transmission\"].value_counts()"
   ]
  },
  {
   "cell_type": "markdown",
   "metadata": {},
   "source": [
    "Kilometers"
   ]
  },
  {
   "cell_type": "code",
   "execution_count": 54,
   "metadata": {},
   "outputs": [],
   "source": [
    "#Replacing the string elements in kilometers column\n",
    "df_filtered[\"kilometers\"]=df_filtered[\"kilometers\"].str.replace(\",\",\"\")"
   ]
  },
  {
   "cell_type": "code",
   "execution_count": 55,
   "metadata": {},
   "outputs": [],
   "source": [
    "#Changing the datatype of  kilometers column to float\n",
    "df_filtered[\"kilometers\"]=df_filtered[\"kilometers\"].astype(\"float\")  "
   ]
  },
  {
   "cell_type": "markdown",
   "metadata": {},
   "source": [
    "power"
   ]
  },
  {
   "cell_type": "code",
   "execution_count": 56,
   "metadata": {},
   "outputs": [],
   "source": [
    "#Extracting and transfering the power of engine to \"bhp\"\n",
    "def extract_power(x):\n",
    "        import re \n",
    "        if x==None:\n",
    "             return x\n",
    "        if \"bhp\" in x or \"BHp\" in x or \"hp\" in x or \"HP\" in x:\n",
    "            pattern_1=r\"^([0-9\\.]+)\"\n",
    "            bhp_1=re.findall(pattern_1,x)\n",
    "            if bhp_1:\n",
    "                return float(bhp_1[0])\n",
    "            else:\n",
    "                return x\n",
    "        if \"PS\" in x or \"ps\" in x or \"Ps\" in x:\n",
    "            pattern_2=r\"^([0-9\\.]+)\"\n",
    "            ps=re.findall(pattern_2,x)\n",
    "            bhp_2=float(ps[0])*0.98632\n",
    "            return bhp_2 \n",
    "        else :\n",
    "            pattern_3= r'^(\\d+)'\n",
    "            match_3=re.findall(pattern_3,x)\n",
    "            return float(match_3[0])\n",
    "    \n",
    "df_filtered[\"power\"]=df_filtered[\"power\"].apply(lambda x:extract_power(x))"
   ]
  },
  {
   "cell_type": "code",
   "execution_count": 57,
   "metadata": {},
   "outputs": [
    {
     "data": {
      "text/plain": [
       "60"
      ]
     },
     "execution_count": 57,
     "metadata": {},
     "output_type": "execute_result"
    }
   ],
   "source": [
    "#Checking for the NaN values\n",
    "df_filtered[\"power\"].isna().sum()"
   ]
  },
  {
   "cell_type": "code",
   "execution_count": 58,
   "metadata": {},
   "outputs": [
    {
     "name": "stdout",
     "output_type": "stream",
     "text": [
      "['Gypsy', 'Indica', 'Mondeo', 'Santro Xing', 'Tucson', 'Santro', 'Fiesta', 'Celerio Tour 2018-2021', 'Contessa', 'Omni', 'Estilo', 'Armada', 'Etios', 'C-Class', 'Swift', 'Esteem', 'Endeavour', '1000', 'Etios Liva', 'Qualis', 'CR-V']\n"
     ]
    }
   ],
   "source": [
    "#Filling the NaN VALUES\n",
    "car_model_list=df_filtered[df_filtered[\"power\"].isna()][\"model_name\"].to_list()\n",
    "car_model_set=set(car_model_list) # Converting to set to avoid duplicates \n",
    "car_model_list=list(car_model_set)\n",
    "print(car_model_list)\n",
    "car_model_list=['Swift', 'C-Class', 'Santro', 'Esteem',\"Armada\" ,'CR-V', 'Etios Liva', 'Santro Xing', 'Qualis', 'Gypsy', 'Tucson', 'Indica', '1000', 'Fiesta', 'Estilo', 'Contessa', 'Etios', 'Endeavour', 'Celerio Tour 2018-2021', 'Mondeo', 'Omni']\n",
    "bhp_list=[88.5,201.15,68,91,90,154,68,62.18,75,80,155,69,45,89,67,54,89,167.2,65,143,34 ]\n",
    "for model_name,bhp in zip(car_model_list,bhp_list):\n",
    "    df_filtered.loc[(df_filtered[\"model_name\"]==model_name)&(df_filtered[\"power\"].isna()),\"power\"]=bhp"
   ]
  },
  {
   "cell_type": "markdown",
   "metadata": {},
   "source": [
    "previous_owners"
   ]
  },
  {
   "cell_type": "code",
   "execution_count": 59,
   "metadata": {},
   "outputs": [],
   "source": [
    "##Changing the datatype of  previous_owners column to integer\n",
    "df_filtered[\"previous_owners\"]=df_filtered[\"previous_owners\"].astype(\"int\")"
   ]
  },
  {
   "cell_type": "code",
   "execution_count": 60,
   "metadata": {},
   "outputs": [
    {
     "data": {
      "text/plain": [
       "previous_owners\n",
       "1    5815\n",
       "2    1948\n",
       "3     365\n",
       "4      78\n",
       "0      32\n",
       "5      17\n",
       "Name: count, dtype: int64"
      ]
     },
     "execution_count": 60,
     "metadata": {},
     "output_type": "execute_result"
    }
   ],
   "source": [
    "df_filtered[\"previous_owners\"].value_counts()"
   ]
  },
  {
   "cell_type": "markdown",
   "metadata": {},
   "source": [
    "insurance_type"
   ]
  },
  {
   "cell_type": "code",
   "execution_count": 62,
   "metadata": {},
   "outputs": [
    {
     "data": {
      "text/plain": [
       "insurance_type\n",
       "Third Party insurance    3953\n",
       "Comprehensive            3138\n",
       "Third Party               630\n",
       "Zero Dep                  303\n",
       "Not Available             223\n",
       "1                           3\n",
       "2                           1\n",
       "Name: count, dtype: int64"
      ]
     },
     "execution_count": 62,
     "metadata": {},
     "output_type": "execute_result"
    }
   ],
   "source": [
    "df_filtered[\"insurance_type\"].value_counts()"
   ]
  },
  {
   "cell_type": "code",
   "execution_count": 63,
   "metadata": {},
   "outputs": [],
   "source": [
    "#Replacing and grouping the insurance type \n",
    "df_filtered[\"insurance_type\"]=df_filtered[\"insurance_type\"].replace(\n",
    "    {\"Third Party insurance\":\"third_party_insurance\",\n",
    "     \"Comprehensive \":\"comprehensive\",\n",
    "     \"Third Party\":\"third_party_insurance\",\n",
    "     \"Zero Dep\":\"zero_depreciation\",\n",
    "     \"Not Available\":\"not_available\",\n",
    "     \"1\":\"not_available\",\n",
    "     \"2\":\"not_available\",\n",
    "     })"
   ]
  },
  {
   "cell_type": "code",
   "execution_count": 64,
   "metadata": {},
   "outputs": [],
   "source": [
    "#Filling the NaN values\n",
    "df_filtered[\"insurance_type\"].fillna(\"not_available\",inplace=True)"
   ]
  },
  {
   "cell_type": "markdown",
   "metadata": {},
   "source": [
    "seats"
   ]
  },
  {
   "cell_type": "code",
   "execution_count": 65,
   "metadata": {},
   "outputs": [
    {
     "data": {
      "text/plain": [
       "5"
      ]
     },
     "execution_count": 65,
     "metadata": {},
     "output_type": "execute_result"
    }
   ],
   "source": [
    "#Checking for NaN values\n",
    "df_filtered[\"seats\"].isna().sum()"
   ]
  },
  {
   "cell_type": "code",
   "execution_count": 66,
   "metadata": {},
   "outputs": [],
   "source": [
    "#Filling the NaN values\n",
    "df_filtered.loc[df_filtered[\"model_name\"]==\"Endeavour\",\"seats\"]=7\n",
    "df_filtered.loc[df_filtered[\"model_name\"]==\"Estilo\",\"seats\"]=5\n",
    "df_filtered.loc[df_filtered[\"model_name\"]==\"Ambassador\",\"seats\"]=5\n",
    "df_filtered.loc[df_filtered[\"seats\"]==\"null\",\"seats\"]=5"
   ]
  },
  {
   "cell_type": "code",
   "execution_count": 67,
   "metadata": {},
   "outputs": [],
   "source": [
    "#Changing the Datatype\n",
    "df_filtered[\"seats\"]=df_filtered[\"seats\"].astype(\"int\")"
   ]
  },
  {
   "cell_type": "markdown",
   "metadata": {},
   "source": [
    "engine_(cc)"
   ]
  },
  {
   "cell_type": "code",
   "execution_count": 68,
   "metadata": {},
   "outputs": [],
   "source": [
    "#Replacing the unecessary characters and converting into float datatype\n",
    "df_filtered[\"engine_(cc)\"]=df_filtered[\"engine_(cc)\"].str.replace(\"CC\",\"\")\n",
    "df_filtered[\"engine_(cc)\"]=df_filtered[\"engine_(cc)\"].astype(\"float\")"
   ]
  },
  {
   "cell_type": "code",
   "execution_count": 69,
   "metadata": {},
   "outputs": [],
   "source": [
    "df_filtered[df_filtered[\"engine_(cc)\"].isna()]\n",
    "#Filling the Nan values with \"0\"\n",
    "df_filtered[\"engine_(cc)\"].fillna(0,inplace=True)"
   ]
  },
  {
   "cell_type": "markdown",
   "metadata": {},
   "source": [
    "Note:Engine cc of electic cars is not determined because they are powered by electric motors"
   ]
  },
  {
   "cell_type": "code",
   "execution_count": 70,
   "metadata": {},
   "outputs": [],
   "source": [
    "#filling the missing values in engine_cc column\n",
    "df_filtered.loc[(df_filtered[\"model_name\"]==\"Gypsy\")&(df_filtered[\"engine_(cc)\"]==0),\"engine_(cc)\"]=1298\n",
    "df_filtered.loc[(df_filtered[\"model_name\"]==\"C-Class\")&(df_filtered[\"engine_(cc)\"]==0),\"engine_(cc)\"]=1998"
   ]
  },
  {
   "cell_type": "markdown",
   "metadata": {},
   "source": [
    "mileage"
   ]
  },
  {
   "cell_type": "code",
   "execution_count": 71,
   "metadata": {},
   "outputs": [],
   "source": [
    "#Converting km/kg to kmpl for  vehicles which are using CNG as fuel\n",
    "def convert_kmkg_kmpl(x):\n",
    "    if x==None:\n",
    "        return None\n",
    "    if x.endswith(\"km/kg\"):\n",
    "        x=x[:-6]\n",
    "        x=float(x)\n",
    "        x=x*1.4 #formula for converting km/kg to kmpl \n",
    "        return x\n",
    "    if x.endswith(\"kmpl\"):\n",
    "        x=x[:-5]\n",
    "        return x\n",
    "    \n",
    "df_filtered[\"mileage\"]=df_filtered[\"mileage\"].apply(lambda x :convert_kmkg_kmpl(x))"
   ]
  },
  {
   "cell_type": "code",
   "execution_count": 72,
   "metadata": {},
   "outputs": [],
   "source": [
    "#Converting string to float datatype\n",
    "df_filtered[\"mileage\"]=df_filtered[\"mileage\"].astype('float')"
   ]
  },
  {
   "cell_type": "code",
   "execution_count": 73,
   "metadata": {},
   "outputs": [],
   "source": [
    "#Filling the NaN values  by mean mileage of particular model \n",
    "model_mileage_mean=df_filtered.groupby([\"model_name\"])[\"mileage\"].mean()\n",
    "for model_name in model_mileage_mean.index:\n",
    "    mask=(df_filtered[\"model_name\"]==model_name)&(df_filtered[\"mileage\"].isna())\n",
    "    mean_mileage=model_mileage_mean[model_name]\n",
    "    df_filtered.loc[(df_filtered[\"model_name\"]==model_name)&(df_filtered[\"mileage\"].isna()),\"mileage\"]=mean_mileage"
   ]
  },
  {
   "cell_type": "code",
   "execution_count": 74,
   "metadata": {},
   "outputs": [],
   "source": [
    "#Still there are some missing values in mileage coulumn.This can be filled by taking mean of manufacturer with fuel type \n",
    "#Filling the NaN values  by mean mileage of  manufacturer eith fueltype\n",
    "manufacturer_fueltype_mileage_mean=df_filtered.groupby([\"manufacturer\",\"fuel_type\"])[\"mileage\"].mean()\n",
    "manufacturer_fueltype_mileage_mean.index\n",
    "for (manufacturer_name,fuel_type),mean_mileage in manufacturer_fueltype_mileage_mean.items():\n",
    "    mask=(df_filtered[\"manufacturer\"]==manufacturer_name)&(df_filtered[\"fuel_type\"]==fuel_type)&(df_filtered[\"mileage\"].isna())\n",
    "    df_filtered.loc[mask,\"mileage\"]=mean_mileage"
   ]
  },
  {
   "cell_type": "markdown",
   "metadata": {},
   "source": [
    "price_(₹)"
   ]
  },
  {
   "cell_type": "code",
   "execution_count": 75,
   "metadata": {},
   "outputs": [],
   "source": [
    "#Converting price in other formats to lakh \n",
    "def convert_lakh(x):\n",
    "    x=x.replace(\"₹\",\"\")\n",
    "    x=x.replace(\",\",\"\")\n",
    "    x=x.strip()\n",
    "    if x.endswith(\"Crore\"):\n",
    "        x=x[:-6]\n",
    "        x=float(x)\n",
    "        return x*100\n",
    "    if not x.endswith(\"Crore\") and not x.endswith(\"Lakh\"):\n",
    "        x=float(x)\n",
    "        return x/100000\n",
    "    if x.endswith(\"Lakh\"):\n",
    "        x=x[:-5]\n",
    "        return float(x)\n",
    "df_filtered[\"price_(₹)\"]=df_filtered[\"price_(₹)\"].apply(lambda x :convert_lakh(x))"
   ]
  },
  {
   "cell_type": "code",
   "execution_count": 76,
   "metadata": {},
   "outputs": [],
   "source": [
    "#Renaming the column to price in lakhs\n",
    "df_filtered.rename(columns={\"price_(₹)\":\"price_in_lakhs_(₹)\",\"power\":\"power_(bhp)\"},inplace=True)"
   ]
  },
  {
   "cell_type": "markdown",
   "metadata": {},
   "source": [
    "Dropping the specific category"
   ]
  },
  {
   "cell_type": "markdown",
   "metadata": {},
   "source": [
    "Dropping Electric ,LPG, CNG,category vehicles from the dataset ,because this category vehicles are very low when compared to others,which may affect the prediction ability"
   ]
  },
  {
   "cell_type": "code",
   "execution_count": 77,
   "metadata": {},
   "outputs": [
    {
     "data": {
      "text/plain": [
       "fuel_type\n",
       "Petrol      5473\n",
       "Diesel      2642\n",
       "CNG           96\n",
       "Electric      28\n",
       "LPG           16\n",
       "Name: count, dtype: int64"
      ]
     },
     "execution_count": 77,
     "metadata": {},
     "output_type": "execute_result"
    }
   ],
   "source": [
    "df_filtered[\"fuel_type\"].value_counts()"
   ]
  },
  {
   "cell_type": "code",
   "execution_count": 78,
   "metadata": {},
   "outputs": [],
   "source": [
    "df_filtered= df_filtered[~df_filtered[\"fuel_type\"].isin([\"LPG\",\"Electric\",\"CNG\"])]"
   ]
  },
  {
   "cell_type": "code",
   "execution_count": 79,
   "metadata": {},
   "outputs": [
    {
     "data": {
      "text/html": [
       "<div>\n",
       "<style scoped>\n",
       "    .dataframe tbody tr th:only-of-type {\n",
       "        vertical-align: middle;\n",
       "    }\n",
       "\n",
       "    .dataframe tbody tr th {\n",
       "        vertical-align: top;\n",
       "    }\n",
       "\n",
       "    .dataframe thead th {\n",
       "        text-align: right;\n",
       "    }\n",
       "</style>\n",
       "<table border=\"1\" class=\"dataframe\">\n",
       "  <thead>\n",
       "    <tr style=\"text-align: right;\">\n",
       "      <th></th>\n",
       "      <th>manufacturer</th>\n",
       "      <th>model_name</th>\n",
       "      <th>model_year</th>\n",
       "      <th>body_type</th>\n",
       "      <th>fuel_type</th>\n",
       "      <th>transmission</th>\n",
       "      <th>power_(bhp)</th>\n",
       "      <th>engine_(cc)</th>\n",
       "      <th>mileage</th>\n",
       "      <th>kilometers</th>\n",
       "      <th>previous_owners</th>\n",
       "      <th>insurance_type</th>\n",
       "      <th>seats</th>\n",
       "      <th>alloy_wheels</th>\n",
       "      <th>city</th>\n",
       "      <th>price_in_lakhs_(₹)</th>\n",
       "    </tr>\n",
       "  </thead>\n",
       "  <tbody>\n",
       "    <tr>\n",
       "      <th>0</th>\n",
       "      <td>Maruti</td>\n",
       "      <td>Celerio</td>\n",
       "      <td>2015</td>\n",
       "      <td>Hatchback</td>\n",
       "      <td>Petrol</td>\n",
       "      <td>Manual</td>\n",
       "      <td>67.04</td>\n",
       "      <td>998.0</td>\n",
       "      <td>23.1</td>\n",
       "      <td>120000.0</td>\n",
       "      <td>3</td>\n",
       "      <td>third_party_insurance</td>\n",
       "      <td>5</td>\n",
       "      <td>False</td>\n",
       "      <td>bangalore</td>\n",
       "      <td>4.00</td>\n",
       "    </tr>\n",
       "    <tr>\n",
       "      <th>1</th>\n",
       "      <td>Ford</td>\n",
       "      <td>Ecosport</td>\n",
       "      <td>2018</td>\n",
       "      <td>SUV</td>\n",
       "      <td>Petrol</td>\n",
       "      <td>Manual</td>\n",
       "      <td>121.31</td>\n",
       "      <td>1497.0</td>\n",
       "      <td>17.0</td>\n",
       "      <td>32706.0</td>\n",
       "      <td>2</td>\n",
       "      <td>Comprehensive</td>\n",
       "      <td>5</td>\n",
       "      <td>True</td>\n",
       "      <td>bangalore</td>\n",
       "      <td>8.11</td>\n",
       "    </tr>\n",
       "  </tbody>\n",
       "</table>\n",
       "</div>"
      ],
      "text/plain": [
       "  manufacturer model_name  model_year  body_type fuel_type transmission  \\\n",
       "0       Maruti    Celerio        2015  Hatchback    Petrol       Manual   \n",
       "1         Ford   Ecosport        2018        SUV    Petrol       Manual   \n",
       "\n",
       "   power_(bhp)  engine_(cc)  mileage  kilometers  previous_owners  \\\n",
       "0        67.04        998.0     23.1    120000.0                3   \n",
       "1       121.31       1497.0     17.0     32706.0                2   \n",
       "\n",
       "          insurance_type  seats  alloy_wheels       city  price_in_lakhs_(₹)  \n",
       "0  third_party_insurance      5         False  bangalore                4.00  \n",
       "1          Comprehensive      5          True  bangalore                8.11  "
      ]
     },
     "execution_count": 79,
     "metadata": {},
     "output_type": "execute_result"
    }
   ],
   "source": [
    "df_filtered.head(2)"
   ]
  },
  {
   "cell_type": "code",
   "execution_count": 80,
   "metadata": {},
   "outputs": [],
   "source": [
    "#dropping the alloy wheel column\n",
    "df_filtered.drop(columns=[\"alloy_wheels\"],inplace=True)"
   ]
  },
  {
   "cell_type": "markdown",
   "metadata": {},
   "source": [
    "Saving the cleaned dataset into a new \".csv\" file"
   ]
  },
  {
   "cell_type": "code",
   "execution_count": 81,
   "metadata": {},
   "outputs": [],
   "source": [
    "df_filtered.to_csv(\"processed_car_data.csv\",index=False)"
   ]
  }
 ],
 "metadata": {
  "kernelspec": {
   "display_name": "Python 3",
   "language": "python",
   "name": "python3"
  },
  "language_info": {
   "codemirror_mode": {
    "name": "ipython",
    "version": 3
   },
   "file_extension": ".py",
   "mimetype": "text/x-python",
   "name": "python",
   "nbconvert_exporter": "python",
   "pygments_lexer": "ipython3",
   "version": "3.11.4"
  }
 },
 "nbformat": 4,
 "nbformat_minor": 2
}
